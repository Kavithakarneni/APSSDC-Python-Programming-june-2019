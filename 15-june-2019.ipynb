{
 "cells": [
  {
   "cell_type": "markdown",
   "metadata": {},
   "source": [
    "### Problem-closest to zero\n",
    "- li = [3,2,-1,-2-3] (original list)\n",
    "- sort the data\n",
    "- li = [-3.-2,-1,2,3] (sorted list)\n",
    "- pl = [1,2,2,3,3] (positive sorted list)\n",
    "- pl(0) ->check\n",
    "- if p1"
   ]
  },
  {
   "cell_type": "code",
   "execution_count": 12,
   "metadata": {},
   "outputs": [
    {
     "name": "stdout",
     "output_type": "stream",
     "text": [
      "-2\n"
     ]
    }
   ],
   "source": [
    "li=[-2,2,3,-4,-5]\n",
    "\n",
    "li.sort()\n",
    "\n",
    "pl = []\n",
    "\n",
    "for i in li:\n",
    "    pl.append(abs(i))\n",
    "pl.sort()\n",
    "if -pl[0] in li:\n",
    "    print(-pl[0])\n",
    "else:\n",
    "    print(pl[0])"
   ]
  },
  {
   "cell_type": "code",
   "execution_count": 18,
   "metadata": {},
   "outputs": [
    {
     "name": "stdout",
     "output_type": "stream",
     "text": [
      "-100\n"
     ]
    }
   ],
   "source": [
    "li=[-2,2,3,-4,-100,100]\n",
    "\n",
    "#li.sort()\n",
    "\n",
    "pl = []\n",
    "\n",
    "for i in li:\n",
    "    pl.append(abs(i))\n",
    "pl.sort()\n",
    "if -pl[-1] in li:\n",
    "    print(-pl[-1])\n",
    "else:\n",
    "    print(pl[-1])"
   ]
  },
  {
   "cell_type": "code",
   "execution_count": 21,
   "metadata": {},
   "outputs": [
    {
     "data": {
      "text/plain": [
       "8"
      ]
     },
     "execution_count": 21,
     "metadata": {},
     "output_type": "execute_result"
    }
   ],
   "source": [
    "#you are given three numbers a,b and c.\n",
    "# write a program to find the largest number\n",
    "#which is less than or eqal to c leaves\n",
    "#remainder b when devided by a\n",
    "\n",
    "def cal(a,b,c):\n",
    "    for i in range(c,a-1,-1):\n",
    "        if i % a == b:\n",
    "            return i\n",
    "    return -1\n",
    "cal(3,2,9)"
   ]
  },
  {
   "cell_type": "code",
   "execution_count": 22,
   "metadata": {},
   "outputs": [
    {
     "name": "stdout",
     "output_type": "stream",
     "text": [
      "10\n"
     ]
    }
   ],
   "source": [
    "def countDivisor(l,r,k):\n",
    "    count=0\n",
    "    for i in range(l,r+1):\n",
    "       if i%k==0:\n",
    "           count=count+1\n",
    "    print(count)\n",
    "countDivisor(1,10,1)"
   ]
  },
  {
   "cell_type": "code",
   "execution_count": 28,
   "metadata": {},
   "outputs": [
    {
     "data": {
      "text/plain": [
       "1"
      ]
     },
     "execution_count": 28,
     "metadata": {},
     "output_type": "execute_result"
    }
   ],
   "source": [
    "ord('a')-96"
   ]
  },
  {
   "cell_type": "code",
   "execution_count": 17,
   "metadata": {},
   "outputs": [
    {
     "name": "stdout",
     "output_type": "stream",
     "text": [
      "1\n",
      "2\n"
     ]
    },
    {
     "data": {
      "text/plain": [
       "True"
      ]
     },
     "execution_count": 17,
     "metadata": {},
     "output_type": "execute_result"
    }
   ],
   "source": [
    "def isprime(n):\n",
    "    count=0\n",
    "    for i in range(1,n+1):\n",
    "        if n%i==0 and n%1==0:\n",
    "            count=count+1\n",
    "            print(count)\n",
    "    if count==2:\n",
    "        return True\n",
    "    else:\n",
    "        return False\n",
    "isprime(167)\n"
   ]
  },
  {
   "cell_type": "code",
   "execution_count": 96,
   "metadata": {},
   "outputs": [
    {
     "name": "stdout",
     "output_type": "stream",
     "text": [
      "1\n",
      "2\n",
      "2\n",
      "2\n",
      "3\n",
      "3\n",
      "2\n",
      "5\n"
     ]
    }
   ],
   "source": [
    "def primesin(N):\n",
    "    for n in range(1,N+1):\n",
    "        if isprime(n):\n",
    "            print(n)\n",
    "primesin(5)"
   ]
  },
  {
   "cell_type": "code",
   "execution_count": 114,
   "metadata": {},
   "outputs": [
    {
     "name": "stdout",
     "output_type": "stream",
     "text": [
      "yes\n"
     ]
    }
   ],
   "source": [
    "def compare(s1,s2):\n",
    "    ls1=[]\n",
    "    ls2=[]\n",
    "    for i in s1:\n",
    "        ls1.append(i)\n",
    "    for j in s2:\n",
    "        ls2.append(j)\n",
    "    ls1=ls1.sort()\n",
    "    ls2=ls2.sort()\n",
    "    if (ls1==ls2):\n",
    "        print(\"yes\")\n",
    "    else:\n",
    "        print(\"no\")\n",
    "compare('kavitha','htivak')"
   ]
  },
  {
   "cell_type": "code",
   "execution_count": 142,
   "metadata": {},
   "outputs": [
    {
     "name": "stdout",
     "output_type": "stream",
     "text": [
      "6\n"
     ]
    }
   ],
   "source": [
    "#def valueof(s):\n",
    "#    s.split()\n",
    "s=\"abc\"\n",
    "k=0\n",
    "for i in range(0,len(s)):\n",
    "    k=k+(ord(s[i])-96)\n",
    "print (k)\n"
   ]
  },
  {
   "cell_type": "code",
   "execution_count": 16,
   "metadata": {},
   "outputs": [
    {
     "name": "stdout",
     "output_type": "stream",
     "text": [
      "2\n",
      "2 14 3 44\n",
      "1 30\n",
      "2 10 5 20\n",
      "3 10\n"
     ]
    }
   ],
   "source": [
    "def  worktime(sh, sm, eh, em):\n",
    "        h=0\n",
    "        m=60-sm\n",
    "        m1=m+em\n",
    "        if m1>=60:\n",
    "            m2=m1-60\n",
    "            h=h+1\n",
    "        else:\n",
    "            m2=m1\n",
    "        if((eh-sh)-1)==0:\n",
    "            print(h,m2)\n",
    "        else:\n",
    "            print((eh-sh-1)+h,m2)\n",
    "n=int(input())\n",
    "for s in range(n):\n",
    "    s=input()\n",
    "    l=s.split()\n",
    "    sh=int(l[0])\n",
    "    sm=int(l[1])\n",
    "    eh=int(l[2])\n",
    "    em=int(l[3])\n",
    "    worktime(sh, sm, eh, em)\n",
    "\n"
   ]
  },
  {
   "cell_type": "code",
   "execution_count": null,
   "metadata": {},
   "outputs": [
    {
     "name": "stdout",
     "output_type": "stream",
     "text": [
      "5 3\n",
      "1 2 3 4 5\n",
      "1 3\n",
      "2\n"
     ]
    }
   ],
   "source": [
    "a,b=map(int,input().split())\n",
    "c=list(map(int,input().split()))\n",
    "z=[]\n",
    "ans=0\n",
    "for i in range (0,a):\n",
    "    ans+=c[i]\n",
    "    z.append(ans)\n",
    "#print(z)\n",
    "for i in range (0,b):\n",
    "    d,e=map(int,input().split())\n",
    "    if(d==1):\n",
    "        print((z[e-1])//(e-d+1))\n",
    "    else:\n",
    "        print((z[e-1]-z[d-2])//(e-d+1))\n",
    "        "
   ]
  },
  {
   "cell_type": "code",
   "execution_count": null,
   "metadata": {},
   "outputs": [],
   "source": []
  }
 ],
 "metadata": {
  "kernelspec": {
   "display_name": "Python 3",
   "language": "python",
   "name": "python3"
  },
  "language_info": {
   "codemirror_mode": {
    "name": "ipython",
    "version": 3
   },
   "file_extension": ".py",
   "mimetype": "text/x-python",
   "name": "python",
   "nbconvert_exporter": "python",
   "pygments_lexer": "ipython3",
   "version": "3.7.3"
  }
 },
 "nbformat": 4,
 "nbformat_minor": 2
}
