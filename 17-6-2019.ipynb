{
 "cells": [
  {
   "cell_type": "code",
   "execution_count": 7,
   "metadata": {},
   "outputs": [
    {
     "name": "stdout",
     "output_type": "stream",
     "text": [
      "YES\n"
     ]
    }
   ],
   "source": [
    "def isperfect(N):\n",
    "    k=0\n",
    "    for i in range(1,N):\n",
    "        if N%i==0:\n",
    "            k=k+i\n",
    "    if k==N:\n",
    "        print(\"YES\")\n",
    "    else:\n",
    "        print(\"No\")\n",
    "isperfect(28)"
   ]
  },
  {
   "cell_type": "code",
   "execution_count": 10,
   "metadata": {},
   "outputs": [
    {
     "name": "stdout",
     "output_type": "stream",
     "text": [
      "500000000\n"
     ]
    }
   ],
   "source": [
    "def highremainder(N):\n",
    "    count=0\n",
    "    for a in range(1,N+1):\n",
    "        if (N%a!=0 and N//a==1):\n",
    "            count=count+1\n",
    "        if count==1:\n",
    "            print(a)\n",
    "#N=int(input())\n",
    "\n",
    "highremainder(999999999)\n",
    "        "
   ]
  },
  {
   "cell_type": "code",
   "execution_count": 17,
   "metadata": {},
   "outputs": [
    {
     "name": "stdout",
     "output_type": "stream",
     "text": [
      "3\n"
     ]
    }
   ],
   "source": [
    "### Highest remainder\n",
    "def highestremainder(n):\n",
    "    hr=0\n",
    "    v=n\n",
    "    for i in range(n-1,n//2,-1):\n",
    "        r=n%i\n",
    "        if r > hr:\n",
    "            hr = r\n",
    "            v=i\n",
    "    print(v)\n",
    "        \n",
    "highestremainder(5)"
   ]
  },
  {
   "cell_type": "code",
   "execution_count": 25,
   "metadata": {},
   "outputs": [
    {
     "name": "stdout",
     "output_type": "stream",
     "text": [
      "kavi123\n",
      "4 3 "
     ]
    }
   ],
   "source": [
    "def typescount(s):\n",
    "    count=0\n",
    "    k=0\n",
    "    for i in range(0,len(s)):\n",
    "        if s[i].isdigit():\n",
    "            count=count+1\n",
    "    \n",
    "        if s[i].isalpha():\n",
    "            k=k+1\n",
    "    print(k,count,end=\" \")\n",
    "s=input()\n",
    "typescount(s)\n",
    "\n",
    "    "
   ]
  },
  {
   "cell_type": "code",
   "execution_count": 3,
   "metadata": {},
   "outputs": [
    {
     "name": "stdout",
     "output_type": "stream",
     "text": [
      "2\n",
      "1\n",
      "30\n",
      "YES\n"
     ]
    }
   ],
   "source": [
    "def isprime(n):\n",
    "    count=0\n",
    "    for i in range(1,n+1):\n",
    "        if n%i==0 and n%1==0:\n",
    "            count=count+1\n",
    "            #print(count)\n",
    "    if count==2:\n",
    "        return True\n",
    "    else:\n",
    "        return False\n",
    "def isspecial(N):\n",
    "    a=0\n",
    "    for i in range(1,N):\n",
    "        if N%i==0:\n",
    "            if isprime(i):\n",
    "                a=a+1\n",
    "    if a>=P:\n",
    "        print(\"YES\")\n",
    "    else:\n",
    "        print(\"No\")\n",
    "P=int(input())\n",
    "T=int(input())\n",
    "for k in range(0,T):\n",
    "    N=int(input())\n",
    "    isspecial(N)"
   ]
  },
  {
   "cell_type": "code",
   "execution_count": 7,
   "metadata": {},
   "outputs": [
    {
     "data": {
      "text/plain": [
       "False"
      ]
     },
     "execution_count": 7,
     "metadata": {},
     "output_type": "execute_result"
    }
   ],
   "source": [
    "#function to determine if a number is special number or not\n",
    "#function to check if a number is prime\n",
    "#function to determine number of primefactors\n",
    "def isspecialNumber(n,p):\n",
    "    if noofprimes(n)>=p:\n",
    "        return True\n",
    "    return False\n",
    "\n",
    "def isprime(n):\n",
    "    flag=1\n",
    "    if n==2:\n",
    "        return True\n",
    "    for i in range(2,n//2 +1):\n",
    "        if n%i==0:\n",
    "            flage=0\n",
    "            return False\n",
    "        if flag==1:\n",
    "            return True\n",
    "#isprime(30)\n",
    "def noofprimes(n):\n",
    "    if isprime(n):\n",
    "        return 1\n",
    "    count\n"
   ]
  },
  {
   "cell_type": "code",
   "execution_count": 23,
   "metadata": {},
   "outputs": [
    {
     "data": {
      "text/plain": [
       "2"
      ]
     },
     "execution_count": 23,
     "metadata": {},
     "output_type": "execute_result"
    }
   ],
   "source": [
    "ord('2')-48"
   ]
  },
  {
   "cell_type": "code",
   "execution_count": null,
   "metadata": {},
   "outputs": [],
   "source": []
  }
 ],
 "metadata": {
  "kernelspec": {
   "display_name": "Python 3",
   "language": "python",
   "name": "python3"
  },
  "language_info": {
   "codemirror_mode": {
    "name": "ipython",
    "version": 3
   },
   "file_extension": ".py",
   "mimetype": "text/x-python",
   "name": "python",
   "nbconvert_exporter": "python",
   "pygments_lexer": "ipython3",
   "version": "3.7.3"
  }
 },
 "nbformat": 4,
 "nbformat_minor": 2
}
