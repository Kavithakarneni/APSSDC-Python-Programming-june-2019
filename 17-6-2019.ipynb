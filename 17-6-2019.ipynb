{
 "cells": [
  {
   "cell_type": "code",
   "execution_count": 7,
   "metadata": {},
   "outputs": [
    {
     "name": "stdout",
     "output_type": "stream",
     "text": [
      "YES\n"
     ]
    }
   ],
   "source": [
    "def isperfect(N):\n",
    "    k=0\n",
    "    for i in range(1,N):\n",
    "        if N%i==0:\n",
    "            k=k+i\n",
    "    if k==N:\n",
    "        print(\"YES\")\n",
    "    else:\n",
    "        print(\"No\")\n",
    "isperfect(28)"
   ]
  },
  {
   "cell_type": "code",
   "execution_count": 27,
   "metadata": {},
   "outputs": [
    {
     "name": "stdout",
     "output_type": "stream",
     "text": [
      "6\n"
     ]
    }
   ],
   "source": [
    "def highremainder(N):\n",
    "    count=0\n",
    "    for a in range(1,N+1):\n",
    "        if (N%a!=0 and N//a==1):\n",
    "            count=count+1\n",
    "        if count==1:\n",
    "            print(a)\n",
    "highremainder(10)\n",
    "        "
   ]
  },
  {
   "cell_type": "code",
   "execution_count": 25,
   "metadata": {},
   "outputs": [
    {
     "name": "stdout",
     "output_type": "stream",
     "text": [
      "kavi123\n",
      "4 3 "
     ]
    }
   ],
   "source": [
    "def typescount(s):\n",
    "    count=0\n",
    "    k=0\n",
    "    for i in range(0,len(s)):\n",
    "        if s[i].isdigit():\n",
    "            count=count+1\n",
    "    \n",
    "        if s[i].isalpha():\n",
    "            k=k+1\n",
    "    print(k,count,end=\" \")\n",
    "s=input()\n",
    "typescount(s)\n",
    "\n",
    "    "
   ]
  },
  {
   "cell_type": "code",
   "execution_count": null,
   "metadata": {},
   "outputs": [],
   "source": []
  }
 ],
 "metadata": {
  "kernelspec": {
   "display_name": "Python 3",
   "language": "python",
   "name": "python3"
  },
  "language_info": {
   "codemirror_mode": {
    "name": "ipython",
    "version": 3
   },
   "file_extension": ".py",
   "mimetype": "text/x-python",
   "name": "python",
   "nbconvert_exporter": "python",
   "pygments_lexer": "ipython3",
   "version": "3.7.3"
  }
 },
 "nbformat": 4,
 "nbformat_minor": 2
}
