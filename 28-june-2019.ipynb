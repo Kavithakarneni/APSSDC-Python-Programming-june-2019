{
 "cells": [
  {
   "cell_type": "markdown",
   "metadata": {},
   "source": [
    "### Day objectives:\n",
    " - Maps\n",
    " - Lambda\n",
    " - Filter\n",
    " - Use cases - File/Data Encryption"
   ]
  },
  {
   "cell_type": "code",
   "execution_count": null,
   "metadata": {},
   "outputs": [],
   "source": [
    "Mappin - Entity With Function\n",
    "\n",
    "f:x^2 + 3*x + 9\n",
    "[1,10]\n",
    "f(x) -->y\n",
    "x   y\n",
    "1   1\n",
    "2   4\n",
    "3   9\n",
    "\n",
    "map(function,Iterable)"
   ]
  },
  {
   "cell_type": "code",
   "execution_count": 11,
   "metadata": {},
   "outputs": [
    {
     "data": {
      "text/plain": [
       "1024"
      ]
     },
     "execution_count": 11,
     "metadata": {},
     "output_type": "execute_result"
    }
   ],
   "source": [
    "def powerN(a,n):\n",
    "    return a**n\n",
    "    r=1\n",
    "    for i in range(0,n):\n",
    "        r *=a\n",
    "    return r\n",
    "\n",
    "powerN(2,10)\n",
    "def recursivePowerN(a,n):\n",
    "    if n==0:\n",
    "        return 1\n",
    "    else:\n",
    "        return a*recursivePowerN(a,n-1)\n",
    "recursivePowerN(2,10)   "
   ]
  },
  {
   "cell_type": "code",
   "execution_count": 75,
   "metadata": {},
   "outputs": [
    {
     "data": {
      "text/plain": [
       "[1, 8, 27, 64, 125, 216]"
      ]
     },
     "execution_count": 75,
     "metadata": {},
     "output_type": "execute_result"
    }
   ],
   "source": [
    "def cube(n):\n",
    "    return n**3\n",
    "li =['1','2','3','4','5','6']\n",
    "\n",
    "li2=list(map(int,li))\n",
    "tuple(map(float,li2))\n",
    "list(map(str,li2))\n",
    "numbers=[int(i) for i in li]\n",
    "numbers\n",
    "[cube(i) for i in numbers]"
   ]
  },
  {
   "cell_type": "markdown",
   "metadata": {},
   "source": [
    "### Filter\n",
    "\n",
    "used to check boolean values"
   ]
  },
  {
   "cell_type": "code",
   "execution_count": 44,
   "metadata": {},
   "outputs": [
    {
     "data": {
      "text/plain": [
       "[1, 2, 3]"
      ]
     },
     "execution_count": 44,
     "metadata": {},
     "output_type": "execute_result"
    }
   ],
   "source": [
    "li=[1,2,'a','b','c',3]\n",
    "def isDigit(c):\n",
    "    c=str(c)\n",
    "    if c.isdigit():\n",
    "        return True\n",
    "    return 0\n",
    "isDigit('1')\n",
    "list(filter(isDigit,li))"
   ]
  },
  {
   "cell_type": "code",
   "execution_count": 70,
   "metadata": {},
   "outputs": [
    {
     "data": {
      "text/plain": [
       "[503, 509, 521, 523, 541, 547, 557, 563, 569, 571, 577, 587, 593, 599]"
      ]
     },
     "execution_count": 70,
     "metadata": {},
     "output_type": "execute_result"
    }
   ],
   "source": [
    "#identify all primes in a given range\n",
    "def isprime(n):\n",
    "    #count=0\n",
    "    if n<2:\n",
    "        return False\n",
    "    for i in range(2,n//2+1):\n",
    "        if n%i==0:\n",
    "            return 0\n",
    "    return True\n",
    "#isprime(125) \n",
    "li=[1,2,3,4,15,6,8,9,11]\n",
    "lb=500\n",
    "ub=600\n",
    "#primelist=list(filter(isprime,range(lb,ub+1)))\n",
    "primelist2=[i for i in range(lb,ub+1) if isprime(i)]\n",
    "# map fails because it doesn't apply for checking conditions\n",
    "primelist2"
   ]
  },
  {
   "cell_type": "markdown",
   "metadata": {},
   "source": [
    "### Lambda\n",
    "\n",
    " - Anonymous Function\n",
    " - can be embedded into List comprehension,Maps,Filters"
   ]
  },
  {
   "cell_type": "code",
   "execution_count": 85,
   "metadata": {},
   "outputs": [
    {
     "data": {
      "text/plain": [
       "[2, 4, 6]"
      ]
     },
     "execution_count": 85,
     "metadata": {},
     "output_type": "execute_result"
    }
   ],
   "source": [
    "a=lambda x: x**2\n",
    "list(map(lambda x:x**3,[1,2,3,4,5,6]))\n",
    "\n",
    "list(filter(lambda x:(x%2==0),[1,2,3,4,5,6]))"
   ]
  },
  {
   "cell_type": "code",
   "execution_count": 98,
   "metadata": {},
   "outputs": [
    {
     "name": "stdout",
     "output_type": "stream",
     "text": [
      "[16, 17, 5, 16, 4, 9, 9, 7, 15, 14]\n",
      "[5, 4, 9, 9, 7]\n"
     ]
    }
   ],
   "source": [
    "from random import randint\n",
    "internalmarks1 = [randint(0,25) for i in range(10)]\n",
    "internalmarks2 = [randint(0,25) for i in range(10)]\n",
    "internalmarks3 = [randint(0,25) for i in range(10)]\n",
    "\n",
    "averageInternal = list(map(lambda x,y,z:(x+y+z)//3,internalmarks1,internalmarks2,internalmarks3))\n",
    "Failedmarks=list(filter(lambda x:x<10,averageInternal))\n",
    "print(averageInternal)\n",
    "print(Failedmarks)"
   ]
  },
  {
   "cell_type": "markdown",
   "metadata": {},
   "source": [
    "### Applying Functional Programming to the marks analysis Application"
   ]
  },
  {
   "cell_type": "code",
   "execution_count": 30,
   "metadata": {},
   "outputs": [],
   "source": [
    "#Generate Marks data\n",
    "from random import randint\n",
    "def Generatemarks(n,lb,ub):\n",
    "    filename = 'DataFiles/marks.txt'\n",
    "    with open(filename,'w') as f:\n",
    "        for i in range(n):\n",
    "            marks=randint(lb,ub)\n",
    "            f.write(str(marks)+'\\n')\n",
    "        return\n",
    "Generatemarks(300,0,100)  \n",
    "    "
   ]
  },
  {
   "cell_type": "code",
   "execution_count": 12,
   "metadata": {},
   "outputs": [
    {
     "data": {
      "text/plain": [
       "46"
      ]
     },
     "execution_count": 12,
     "metadata": {},
     "output_type": "execute_result"
    }
   ],
   "source": [
    "#Marks Analysis\n",
    "#class Average,% of Passed,Failed and Distinction\n",
    "#Frequency of Highest and Lowest\n",
    "import re\n",
    "def readmarkslist(filename):\n",
    "    with open(filename,'r') as f:\n",
    "        filedata=f.read().split(\"\\n\")\n",
    "    markslist=list(map(int,filedata))\n",
    "    return  markslist\n",
    "#readmarkslist(filename)\n",
    "def Classaverage(filename):\n",
    "    markslist=readmarkslist(filename)\n",
    "    return sum(markslist)//len(markslist)\n",
    "filename = 'DataFiles/marks.txt'\n",
    "Classaverage(filename)"
   ]
  },
  {
   "cell_type": "code",
   "execution_count": 13,
   "metadata": {},
   "outputs": [
    {
     "data": {
      "text/plain": [
       "47.333333333333336"
      ]
     },
     "execution_count": 13,
     "metadata": {},
     "output_type": "execute_result"
    }
   ],
   "source": [
    "def percentagefailed(filename):\n",
    "    markslist=readmarkslist(filename)\n",
    "    failedcount=len(list(filter(lambda mark:mark<40,markslist)))\n",
    "    return (failedcount/len(markslist))*100\n",
    "percentagefailed(filename)"
   ]
  },
  {
   "cell_type": "code",
   "execution_count": 14,
   "metadata": {},
   "outputs": [
    {
     "data": {
      "text/plain": [
       "52.666666666666664"
      ]
     },
     "execution_count": 14,
     "metadata": {},
     "output_type": "execute_result"
    }
   ],
   "source": [
    "def percentagepassed(filename):\n",
    "    return 100-percentagefailed(filename)\n",
    "percentagepassed(filename)"
   ]
  },
  {
   "cell_type": "code",
   "execution_count": 15,
   "metadata": {},
   "outputs": [
    {
     "data": {
      "text/plain": [
       "26.333333333333332"
      ]
     },
     "execution_count": 15,
     "metadata": {},
     "output_type": "execute_result"
    }
   ],
   "source": [
    "def percentagedistiction(filename):\n",
    "    markslist=readmarkslist(filename)\n",
    "    distinctioncount=len(list(filter(lambda mark:mark>70,markslist)))\n",
    "    return (distinctioncount/len(markslist))*100\n",
    "percentagedistiction(filename)\n",
    "    "
   ]
  },
  {
   "cell_type": "code",
   "execution_count": 16,
   "metadata": {},
   "outputs": [
    {
     "data": {
      "text/plain": [
       "5"
      ]
     },
     "execution_count": 16,
     "metadata": {},
     "output_type": "execute_result"
    }
   ],
   "source": [
    "def highestmarkfeq(filename):\n",
    "    markslist=readmarkslist(filename)\n",
    "    return markslist.count(max(markslist))\n",
    "    #return [markslist.count(max(markslist)),max(markslist)]\n",
    "highestmarkfeq(filename)"
   ]
  },
  {
   "cell_type": "code",
   "execution_count": 17,
   "metadata": {},
   "outputs": [
    {
     "data": {
      "text/plain": [
       "[4, 0]"
      ]
     },
     "execution_count": 17,
     "metadata": {},
     "output_type": "execute_result"
    }
   ],
   "source": [
    "def lowestmarkfeq(filename):\n",
    "    markslist=readmarkslist(filename)\n",
    "    #return markslist.count(min(markslist))\n",
    "    return [markslist.count(min(markslist)),min(markslist)]\n",
    "lowestmarkfeq(filename)"
   ]
  },
  {
   "cell_type": "markdown",
   "metadata": {},
   "source": [
    "### Data Encryption\n",
    "\n",
    "key - Mapping of charecters with replaced charecter\n",
    "0 -> 4\n",
    "\n",
    "1 -> 5\n",
    "\n",
    "2 -> 6\n",
    "\n",
    "7 -> 1\n",
    "\n",
    "8 -> 2"
   ]
  },
  {
   "cell_type": "code",
   "execution_count": 18,
   "metadata": {},
   "outputs": [],
   "source": [
    "#function to generate key for encryption\n",
    "keypath=\"DataFiles/key.txt\"\n",
    "def generatekey(keypath):\n",
    "    with open(keypath,'w') as f:\n",
    "        for i in range(10):\n",
    "            if i < 6:\n",
    "                f.write(str(i)+' '+str(i+4)+'\\n')\n",
    "            else:\n",
    "                f.write(str(i)+' '+str(i-6)+'\\n')\n",
    "                \n",
    "generatekey(keypath)        "
   ]
  },
  {
   "cell_type": "code",
   "execution_count": 37,
   "metadata": {},
   "outputs": [],
   "source": [
    "#Function to encrypt a data file\n",
    "keyfile=\"DataFiles/key.txt\"\n",
    "def dictkeyfile(keyfile):\n",
    "    key={}\n",
    "    with open(keyfile,'r') as f:\n",
    "        for line in f:\n",
    "            line=line.split()\n",
    "            key[line[0]]=line[1]\n",
    "    return key\n",
    "\n",
    "def encryptmarksdata(datafile,keyfile):\n",
    "    #construct a dictionary for key data\n",
    "    key = dictkeyfile(keyfile)\n",
    "    with open(datafile,'r') as f:\n",
    "        filedata = f.read().split('\\n')\n",
    "    with open('DataFiles/encrypt.txt','w') as f:\n",
    "        for mark in filedata:\n",
    "            line = \"\"\n",
    "            for n in mark:\n",
    "                line += key[n]\n",
    "            f.write(line+'\\n')\n",
    "    return\n",
    "datafile='DataFiles/marks.txt'\n",
    "encryptmarksdata(datafile,keyfile)"
   ]
  },
  {
   "cell_type": "code",
   "execution_count": 38,
   "metadata": {},
   "outputs": [],
   "source": [
    "def decryptmarksdata(datafile,keyfile):\n",
    "    key = dictkeyfile(keyfile)\n",
    "    newkey={}\n",
    "    for key,values in key.items():\n",
    "        newkey[values]=key\n",
    "    with open(datafile,'r') as f:\n",
    "        filedata = f.read().split('\\n')\n",
    "    with open('DataFiles/decrypt.txt','w') as f:\n",
    "        for mark in filedata:\n",
    "            line=\"\"\n",
    "            for n in mark:\n",
    "                line +=newkey[n]\n",
    "            f.write(line + '\\n')\n",
    "    return\n",
    "datafile='DataFiles/encrypt.txt'\n",
    "decryptmarksdata(datafile,keyfile)"
   ]
  },
  {
   "cell_type": "code",
   "execution_count": 52,
   "metadata": {},
   "outputs": [],
   "source": [
    "#comprehensions\n",
    "keyfile = 'DataFiles/key.txt'\n",
    "key = dictkeyfile(keyfile)\n",
    "evenkeys = {item for item in key.items() if int(item[0])%2==0}\n",
    "evenkeys = {item for item in key}\n",
    "b=evenkeys"
   ]
  },
  {
   "cell_type": "code",
   "execution_count": 53,
   "metadata": {},
   "outputs": [
    {
     "name": "stdout",
     "output_type": "stream",
     "text": [
      "{'5', '6', '9', '1', '2', '0', '7', '8', '3', '4'}\n"
     ]
    }
   ],
   "source": [
    "print(b)"
   ]
  },
  {
   "cell_type": "code",
   "execution_count": null,
   "metadata": {},
   "outputs": [],
   "source": []
  }
 ],
 "metadata": {
  "kernelspec": {
   "display_name": "Python 3",
   "language": "python",
   "name": "python3"
  },
  "language_info": {
   "codemirror_mode": {
    "name": "ipython",
    "version": 3
   },
   "file_extension": ".py",
   "mimetype": "text/x-python",
   "name": "python",
   "nbconvert_exporter": "python",
   "pygments_lexer": "ipython3",
   "version": "3.7.3"
  }
 },
 "nbformat": 4,
 "nbformat_minor": 2
}
