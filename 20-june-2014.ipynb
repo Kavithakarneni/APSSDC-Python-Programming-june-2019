{
 "cells": [
  {
   "cell_type": "markdown",
   "metadata": {},
   "source": [
    "## Date : 20 June 2019\n",
    "#### Day Objectives\n",
    "##### Regular Expressions\n",
    "- Constructing Regular Expressions for various use cases\n",
    "Regular Expressions Module and related in Python\n",
    "Improving the Contacts application with name and phone number validation using regular expressions\n",
    "File Handling\n",
    "Text Files\n",
    "Upgrading the Contacts Application to store contact information in a text file"
   ]
  },
  {
   "cell_type": "code",
   "execution_count": 1,
   "metadata": {},
   "outputs": [
    {
     "ename": "SyntaxError",
     "evalue": "invalid syntax (<ipython-input-1-23fdaa460244>, line 2)",
     "output_type": "error",
     "traceback": [
      "\u001b[1;36m  File \u001b[1;32m\"<ipython-input-1-23fdaa460244>\"\u001b[1;36m, line \u001b[1;32m2\u001b[0m\n\u001b[1;33m    -  ->Email validation(username@domain.ext)\u001b[0m\n\u001b[1;37m        ^\u001b[0m\n\u001b[1;31mSyntaxError\u001b[0m\u001b[1;31m:\u001b[0m invalid syntax\n"
     ]
    }
   ],
   "source": [
    "\n",
    "-  ->Email validation(username@domain.ext)\n",
    "  -username\n",
    "    - length of username : [6,15]\n",
    "    - NO special characters other than_.\n",
    "    - should not begin and end with an _.\n",
    "    - charecter set : all digits and alphabets\n",
    "  - domain\n",
    "        -length of domain : [3,18]\n",
    "        - NO special characters\n",
    "        - charecter set : all digits and alphabets\n",
    "  - extention\n",
    "        -length of extention :[2,4]\n",
    "        - NO special characters\n",
    "        - charecter set only alphabet\n",
    " - ^[0-9a-z][0-9a-z_.]{4,13}[0-9a-z][@][a-z0-9]{3,18}[.][a-z]{2,4}$ #valid email or nor       \n",
    "- [a].*[z]$ #any string with any lenth"
   ]
  },
  {
   "cell_type": "code",
   "execution_count": 3,
   "metadata": {},
   "outputs": [
    {
     "name": "stdout",
     "output_type": "stream",
     "text": [
      "valid number\n"
     ]
    }
   ],
   "source": [
    "#function to validate a phone number\n",
    "import re\n",
    "def phonenumbervalidator(number):\n",
    "    pattern = \"^[6-9][0-9]{9}$|^[0][6-9][0-9]{9}|^[+][9][1][6-9][0-9]{9}$\"\n",
    "    if re.match(pattern,str(number)):\n",
    "        print(\"valid number\")\n",
    "    else:\n",
    "        print(\"INvalid number\")\n",
    "    return\n",
    "    \n",
    "phonenumbervalidator(9550817242)"
   ]
  },
  {
   "cell_type": "code",
   "execution_count": null,
   "metadata": {},
   "outputs": [],
   "source": [
    "def searchContacts(name):\n",
    "    if name in contacts:\n",
    "        print(name,\":\",contacts[name])\n",
    "    else:\n",
    "        print(\"%s does not exist\" % name)\n",
    "    return\n",
    "searchContacts(\"kavitha\")"
   ]
  },
  {
   "cell_type": "code",
   "execution_count": null,
   "metadata": {},
   "outputs": [],
   "source": [
    "contacts = {}\n",
    "\n",
    "def addcontact(name,phone,email):\n",
    "    \n",
    "    \n",
    "    #verify that the contact doesnot already Exist\n",
    "    if name in contacts:\n",
    "        print(name,\"alredy exist.\")\n",
    "    else:\n",
    "        if not phoneNumbervalidator(phone):\n",
    "            print(\"phone number is invalid\")\n",
    "            return\n",
    "        if not \n",
    "        contacts[name]=phone\n",
    "        print(\"contact %s added\" % name)\n",
    "    \n",
    "    return\n",
    "addcontact(\"kavitha\",\"0987654321\")    "
   ]
  },
  {
   "cell_type": "markdown",
   "metadata": {},
   "source": [
    "#### File Handling in Python(programiz)\n",
    "\n",
    "File - Document containing information residing on the permanant storage\n",
    "Types - text,pdf,csv etc\n",
    "File I/o - Channelling i/o data to files\n",
    "default i/o channels - keyboard /screen \n",
    "\n",
    "change I/o channel to files for reading and writing\n",
    "Read a files - input from the file - open(filename,mode)\n",
    "write to a file - Output to a file\n",
    " "
   ]
  },
  {
   "cell_type": "code",
   "execution_count": 4,
   "metadata": {},
   "outputs": [
    {
     "name": "stdout",
     "output_type": "stream",
     "text": [
      "text\n"
     ]
    },
    {
     "data": {
      "text/plain": [
       "'text'"
      ]
     },
     "execution_count": 4,
     "metadata": {},
     "output_type": "execute_result"
    }
   ],
   "source": [
    "s=input()\n",
    "s"
   ]
  },
  {
   "cell_type": "code",
   "execution_count": 26,
   "metadata": {},
   "outputs": [
    {
     "name": "stdout",
     "output_type": "stream",
     "text": [
      "new dataline2\n",
      " Line3 new dataline2\n",
      "Line3\n"
     ]
    }
   ],
   "source": [
    "#function to read a file\n",
    "def readFile(filename):\n",
    "    f=open(filename,'r')\n",
    "    filedata=f.read()\n",
    "    f.close()\n",
    "    return filedata\n",
    "\n",
    "filename=\"DataFiles/data.txt\"\n",
    "filedata= readFile(filename)\n",
    "#for line in filedata.split('\\n'):\n",
    "#    print(line)\n",
    "    \n",
    "def printfileDatalines(filename):\n",
    "    with open(filename,'r') as f:\n",
    "        for line in f:\n",
    "            print(line,end=\" \")\n",
    "    return\n",
    "printfileDatalines(filename)\n",
    "print(readFile(filename))"
   ]
  },
  {
   "cell_type": "code",
   "execution_count": 23,
   "metadata": {},
   "outputs": [],
   "source": [
    "#function to write data into a file\n",
    "def writeIntoFile(filename,filedata):\n",
    "    with open(filename,'w') as f:\n",
    "        f.write(filedata)\n",
    "    return\n",
    "filename='DataFiles/data.txt'\n",
    "\n",
    "writeIntoFile(filename,\"new data\")\n",
    "    "
   ]
  },
  {
   "cell_type": "code",
   "execution_count": 25,
   "metadata": {},
   "outputs": [],
   "source": [
    "#function to append data to a file\n",
    "\n",
    "def appendDataToFile(filename,filedata):\n",
    "    with open(filename,'a') as f:\n",
    "        f.write(filedata)\n",
    "    return\n",
    "filedata=\"line2\\nLine3\"\n",
    "appendDataToFile(filename,filedata)"
   ]
  },
  {
   "cell_type": "code",
   "execution_count": null,
   "metadata": {},
   "outputs": [],
   "source": []
  }
 ],
 "metadata": {
  "kernelspec": {
   "display_name": "Python 3",
   "language": "python",
   "name": "python3"
  },
  "language_info": {
   "codemirror_mode": {
    "name": "ipython",
    "version": 3
   },
   "file_extension": ".py",
   "mimetype": "text/x-python",
   "name": "python",
   "nbconvert_exporter": "python",
   "pygments_lexer": "ipython3",
   "version": "3.7.3"
  }
 },
 "nbformat": 4,
 "nbformat_minor": 2
}
