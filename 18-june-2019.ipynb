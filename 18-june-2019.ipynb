{
 "cells": [
  {
   "cell_type": "markdown",
   "metadata": {},
   "source": [
    "## concepts:\n",
    "- **tupples**\n",
    "- **dictionaries**\n",
    "- **packages and modules**"
   ]
  },
  {
   "cell_type": "markdown",
   "metadata": {},
   "source": [
    "### Tuples\n",
    "t1 = ()\n",
    "li = []\n",
    "\n",
    "difference between lists and Tuples\n",
    "\n",
    "list are mutable - can be changed / modified\n",
    "- used to access,modify,add,delete data\n",
    "\n",
    "Tuples are immutable - cannot be changed once initialised\n",
    "- used to access data ony\n",
    "- All Slicing work"
   ]
  },
  {
   "cell_type": "code",
   "execution_count": 7,
   "metadata": {},
   "outputs": [
    {
     "data": {
      "text/plain": [
       "tuple"
      ]
     },
     "execution_count": 7,
     "metadata": {},
     "output_type": "execute_result"
    }
   ],
   "source": [
    "t1=(1,2,8,6,0)\n",
    "t1[2]#accessing the third element\n",
    "t1[(len(t1)//2)::]#Accessing all elements from middle to last\n",
    "type(t1)"
   ]
  },
  {
   "cell_type": "markdown",
   "metadata": {},
   "source": [
    "###  Dictionaries\n",
    "\n",
    "It works on the concept of set\n",
    "unique data\n",
    "\n",
    "keys,values\n",
    "key is the unique identifier for a value\n",
    "Value is Data that can be accessed with a key"
   ]
  },
  {
   "cell_type": "code",
   "execution_count": 22,
   "metadata": {},
   "outputs": [
    {
     "data": {
      "text/plain": [
       "True"
      ]
     },
     "execution_count": 22,
     "metadata": {},
     "output_type": "execute_result"
    }
   ],
   "source": [
    "dl = {\"k1\":\"value1\",\"k2\":\"value2\"}\n",
    "dl[\"k2\"]#Accessing the value with key \"k2\"\n",
    "dl.keys()#return list of all keys\n",
    "dl.values()#return list of all values\n",
    "dl.items()#return list of tuples of keys and values\n",
    "dl[\"k3\"]=\"value3\"#adding an element to the Next level\n",
    "\n",
    "dl[\"k3\"]=\"value4\"#Updating an element\n",
    "dl.pop(\"k3\")#Removing an element\n",
    "\n",
    "dl\n",
    "\"k2\" in dl"
   ]
  },
  {
   "cell_type": "markdown",
   "metadata": {},
   "source": [
    "### Contacts Application\n",
    "- Add contact\n",
    "- Search for Contact\n",
    "- List all contacts\n",
    "    -name1 : phone1\n",
    "    -name2 : phone2\n",
    "- Modify contact\n",
    "- Remove contact"
   ]
  },
  {
   "cell_type": "code",
   "execution_count": 57,
   "metadata": {},
   "outputs": [
    {
     "name": "stdout",
     "output_type": "stream",
     "text": [
      "contact kavitha added\n"
     ]
    }
   ],
   "source": [
    "contacts = {}\n",
    "\n",
    "def addcontact(name,phone):\n",
    "    \n",
    "    \n",
    "    #verify that the contact doesnot already Exist\n",
    "    if name not in contacts:\n",
    "        contacts[name]=phone\n",
    "        print(\"contact %s added\" % name)\n",
    "    else:\n",
    "        print(\"contact %S already exist\" % name)\n",
    "    return\n",
    "addcontact(\"kavitha\",\"0987654321\")    "
   ]
  },
  {
   "cell_type": "code",
   "execution_count": 58,
   "metadata": {},
   "outputs": [
    {
     "name": "stdout",
     "output_type": "stream",
     "text": [
      "kavitha : 0987654321\n"
     ]
    }
   ],
   "source": [
    "def searchContacts(name):\n",
    "    if name in contacts:\n",
    "        print(name,\":\",contacts[name])\n",
    "    else:\n",
    "        print(\"%s does not exist\" % name)\n",
    "    return\n",
    "searchContacts(\"kavitha\")"
   ]
  },
  {
   "cell_type": "code",
   "execution_count": 65,
   "metadata": {},
   "outputs": [
    {
     "name": "stdout",
     "output_type": "stream",
     "text": [
      "4 added successfully\n"
     ]
    }
   ],
   "source": [
    "def importcontacts(newcontacts):\n",
    "    contact.update(newcontacts)\n",
    "    print(len(newcontacts.keys()),\"added successfully\")\n",
    "    return\n",
    "newcontacts={\"name\":9876543210,\"name2\":6543219870,\"name3\":9464764547,\"kavitha\":9876543210}\n",
    "importcontacts(newcontacts)"
   ]
  },
  {
   "cell_type": "code",
   "execution_count": 66,
   "metadata": {},
   "outputs": [
    {
     "name": "stdout",
     "output_type": "stream",
     "text": [
      "name2 : 6543219870\n",
      "name3 : 9464764547\n",
      "kavitha : 9876543210\n",
      "name : 9876543210\n"
     ]
    }
   ],
   "source": [
    "def listof():\n",
    "    for key,values in contact.items():\n",
    "        print(key,\":\",values)\n",
    "    #contact.pop(\"name\")\n",
    "    #print(contact)\n",
    "                \n",
    "listof()"
   ]
  },
  {
   "cell_type": "code",
   "execution_count": 69,
   "metadata": {},
   "outputs": [
    {
     "name": "stdout",
     "output_type": "stream",
     "text": [
      "{'name2': 6543219870, 'name3': 9464764547, 'kavitha': 98765432109, 'name': 9876543210}\n"
     ]
    }
   ],
   "source": [
    "def modify(name):\n",
    "    contact[name]=98765432109\n",
    "    print(contact)\n",
    "    \n",
    "modify(\"kavitha\")  "
   ]
  },
  {
   "cell_type": "markdown",
   "metadata": {},
   "source": [
    "## Packages and Modules\n",
    "- **pakage** ->collection of modules(python file.py) and subpackages\n",
    "\n",
    "- **Module** ->A single python file containing functions\n",
    "package -> subpackage -> Modules -> functions"
   ]
  },
  {
   "cell_type": "code",
   "execution_count": 4,
   "metadata": {},
   "outputs": [
    {
     "data": {
      "text/plain": [
       "3.141592653589793"
      ]
     },
     "execution_count": 4,
     "metadata": {},
     "output_type": "execute_result"
    }
   ],
   "source": [
    "import math \n",
    "math.floor(123.456)\n",
    "math.pi\n",
    "math.sqrt(3)"
   ]
  },
  {
   "cell_type": "code",
   "execution_count": 6,
   "metadata": {},
   "outputs": [
    {
     "data": {
      "text/plain": [
       "3.141592653589793"
      ]
     },
     "execution_count": 6,
     "metadata": {},
     "output_type": "execute_result"
    }
   ],
   "source": [
    "from math import floor as fl\n",
    "fl(10.436743)\n",
    "from math import pi as p\n",
    "p"
   ]
  },
  {
   "cell_type": "code",
   "execution_count": 5,
   "metadata": {},
   "outputs": [
    {
     "name": "stdout",
     "output_type": "stream",
     "text": [
      "69 10 71 98 12 37 15 3 42 11 "
     ]
    }
   ],
   "source": [
    "#Function to generate N random numbers\n",
    "import random\n",
    "def generateNrandomNumbers(n, lb, ub):\n",
    "    for i in range(0,n):\n",
    "        print(random.randint(lb,ub), end=\" \")\n",
    "    \n",
    "generateNrandomNumbers(10,0,100)"
   ]
  },
  {
   "cell_type": "code",
   "execution_count": 6,
   "metadata": {},
   "outputs": [
    {
     "name": "stdout",
     "output_type": "stream",
     "text": [
      "1\n",
      "2\n",
      "3\n"
     ]
    },
    {
     "data": {
      "text/plain": [
       "False"
      ]
     },
     "execution_count": 6,
     "metadata": {},
     "output_type": "execute_result"
    }
   ],
   "source": [
    "from Packages import numerical\n",
    "numerical.isprime(169)"
   ]
  },
  {
   "cell_type": "code",
   "execution_count": 9,
   "metadata": {},
   "outputs": [
    {
     "name": "stdout",
     "output_type": "stream",
     "text": [
      "1\n",
      "2\n",
      "3\n"
     ]
    },
    {
     "data": {
      "text/plain": [
       "False"
      ]
     },
     "execution_count": 9,
     "metadata": {},
     "output_type": "execute_result"
    }
   ],
   "source": [
    "from Packages.numerical import isprime\n",
    "isprime(9)"
   ]
  },
  {
   "cell_type": "code",
   "execution_count": null,
   "metadata": {},
   "outputs": [],
   "source": []
  },
  {
   "cell_type": "code",
   "execution_count": null,
   "metadata": {},
   "outputs": [],
   "source": [
    "# contacts Application\n",
    "\n",
    "n=input().split()\n",
    "n[0],n[1] = int(n[0]),int(n[1])\n",
    "#read array element\n",
    "a=input().split()\n",
    "sum=[]\n",
    "#Cumlative Sum\n",
    "for i in range(0,n[0]):\n",
    "    if i==0:\n",
    "        sum.append(int(a[i]))\n",
    "    else:\n",
    "        sum.append(int(sum[i-1]))+int(a[i])\n",
    "del a\n",
    "#print(sum[n[0]-1])\n",
    "#read each query and calculate the average\n",
    "for k in range(0,n[1]):\n",
    "    inq=input().split()\n",
    "    i=int(inq[0])\n",
    "    j=int(inq[1])\n",
    "    if i>1:\n",
    "        print(sum[j-1]-sum[i-2])//(j-i+1)\n",
    "    else:\n",
    "        print(sum[j-1]//(j-i+1))\n",
    "    \n",
    "    "
   ]
  },
  {
   "cell_type": "code",
   "execution_count": 9,
   "metadata": {},
   "outputs": [
    {
     "name": "stdout",
     "output_type": "stream",
     "text": [
      "k\n",
      "b\n",
      "b\n",
      "b\n",
      "b\n",
      "b\n",
      "b\n",
      "b\n",
      "a\n",
      "h\n",
      "h\n",
      "h\n",
      "h\n",
      "h\n",
      "v\n",
      "a\n",
      "a\n",
      "a\n",
      "a\n",
      "a\n",
      "a\n",
      "a\n",
      "i\n",
      "r\n",
      "r\n",
      "r\n",
      "r\n",
      "r\n",
      "r\n",
      "r\n",
      "t\n",
      "a\n",
      "a\n",
      "a\n",
      "a\n",
      "a\n",
      "a\n",
      "h\n",
      "t\n",
      "t\n",
      "t\n",
      "t\n",
      "t\n",
      "a\n",
      "h\n",
      "h\n",
      "h\n",
      "h\n",
      "h\n"
     ]
    }
   ],
   "source": [
    "a=\"kavitha\"\n",
    "b=\"bharath\"\n",
    "#a1=[]\n",
    "#b1=[]\n",
    "count=0\n",
    "if len(a)==len(b):\n",
    "    for i in range(0,len(a)):\n",
    "        print (a[i])\n",
    "        for j in range(0,len(b)):\n",
    "            if a[i]!=b[j]:\n",
    "                #a.pop(\"i\")\n",
    "                #count=count+1\n",
    "                #b.pop(\"j\")\n",
    "                #count=count+1\n",
    "                print (b[i])\n",
    "\n",
    "\n"
   ]
  },
  {
   "cell_type": "code",
   "execution_count": null,
   "metadata": {},
   "outputs": [],
   "source": []
  },
  {
   "cell_type": "code",
   "execution_count": null,
   "metadata": {},
   "outputs": [],
   "source": []
  }
 ],
 "metadata": {
  "kernelspec": {
   "display_name": "Python 3",
   "language": "python",
   "name": "python3"
  },
  "language_info": {
   "codemirror_mode": {
    "name": "ipython",
    "version": 3
   },
   "file_extension": ".py",
   "mimetype": "text/x-python",
   "name": "python",
   "nbconvert_exporter": "python",
   "pygments_lexer": "ipython3",
   "version": "3.7.3"
  }
 },
 "nbformat": 4,
 "nbformat_minor": 2
}
