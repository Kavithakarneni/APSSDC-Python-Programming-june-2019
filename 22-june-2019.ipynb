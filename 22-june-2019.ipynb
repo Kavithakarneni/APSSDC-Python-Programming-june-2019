{
 "cells": [
  {
   "cell_type": "markdown",
   "metadata": {},
   "source": [
    "#### date:22 june 2019\n",
    "\n",
    "#### day Objectives\n",
    "- File Handeling\n",
    "    - Basic file data processing\n",
    "        - Accessing and Modifying File data\n",
    "    - Charecter Count\n",
    "    - Line Count\n",
    "    - File size\n",
    "    - Word Count\n",
    "    - Unique word count\n"
   ]
  },
  {
   "cell_type": "code",
   "execution_count": 14,
   "metadata": {},
   "outputs": [
    {
     "name": "stdout",
     "output_type": "stream",
     "text": [
      "<class '_io.TextIOWrapper'>\n",
      "new dataline2\n",
      "Line3\n"
     ]
    }
   ],
   "source": [
    "#Read a File - Files should exist(Read Mode)\n",
    "#Write to a file - Existing(append) or New file(Write)\n",
    "\n",
    "def readFile(filePath):\n",
    "    with open(filePath,'r') as f:\n",
    "        print(type(f))\n",
    "        filedata=f.read()\n",
    "    return filedata\n",
    "filePath = 'DataFiles/data.txt'\n",
    "print(readFile(filePath))\n",
    "\n"
   ]
  },
  {
   "cell_type": "markdown",
   "metadata": {},
   "source": [
    "### line count"
   ]
  },
  {
   "cell_type": "code",
   "execution_count": 40,
   "metadata": {},
   "outputs": [
    {
     "data": {
      "text/plain": [
       "8"
      ]
     },
     "execution_count": 40,
     "metadata": {},
     "output_type": "execute_result"
    }
   ],
   "source": [
    "filename = 'DataFiles/data.txt'\n",
    "def linecount(filename):\n",
    "    count=0\n",
    "    with open(filename,\"r\") as f:\n",
    "        for lines in f:\n",
    "            #print(lines)\n",
    "            count=count+1\n",
    "        return count\n",
    "linecount(filename)\n",
    "            "
   ]
  },
  {
   "cell_type": "markdown",
   "metadata": {},
   "source": [
    "### Charecter Count"
   ]
  },
  {
   "cell_type": "code",
   "execution_count": 72,
   "metadata": {},
   "outputs": [
    {
     "data": {
      "text/plain": [
       "85"
      ]
     },
     "execution_count": 72,
     "metadata": {},
     "output_type": "execute_result"
    }
   ],
   "source": [
    "filename = 'DataFiles/data.txt'\n",
    "def charcount(filename):\n",
    "    count=0\n",
    "    with open(filename,\"r\") as f:\n",
    "        filedata=f.read()\n",
    "        for lines in filedata:\n",
    "            #print(lines)\n",
    "            count=count+1\n",
    "        return count\n",
    "charcount(filename)\n",
    "            "
   ]
  },
  {
   "cell_type": "markdown",
   "metadata": {},
   "source": [
    "### Filesize"
   ]
  },
  {
   "cell_type": "code",
   "execution_count": 39,
   "metadata": {},
   "outputs": [
    {
     "name": "stdout",
     "output_type": "stream",
     "text": [
      "55 Bytes\n"
     ]
    }
   ],
   "source": [
    "import os\n",
    "b=os.path.getsize(filename)\n",
    "#b=55000\n",
    "if b<1000:\n",
    "    print(b,\"Bytes\")\n",
    "elif b>1000:\n",
    "    a=b//1000\n",
    "    print(a,\"KB\")\n",
    "elif b>1000    "
   ]
  },
  {
   "cell_type": "markdown",
   "metadata": {},
   "source": [
    "###  wordcount"
   ]
  },
  {
   "cell_type": "code",
   "execution_count": 4,
   "metadata": {},
   "outputs": [
    {
     "name": "stdout",
     "output_type": "stream",
     "text": [
      "14\n"
     ]
    }
   ],
   "source": [
    "filename = 'DataFiles/data.txt'\n",
    "def wordcount(filename):\n",
    "    count=1\n",
    "    with open(filename,\"r\") as f:\n",
    "        filedata=f.read()\n",
    "        #print(filedata)\n",
    "        for lines in filedata:\n",
    "            if (lines==\" \" or lines==\"\\n\"):\n",
    "                count=count+1\n",
    "    print(count)\n",
    "wordcount(filename)         "
   ]
  },
  {
   "cell_type": "markdown",
   "metadata": {},
   "source": [
    "### Unique word count"
   ]
  },
  {
   "cell_type": "code",
   "execution_count": 5,
   "metadata": {},
   "outputs": [
    {
     "name": "stdout",
     "output_type": "stream",
     "text": [
      "{'new': 1, 'dataline2': 1, 'Line3': 1, 'line4': 1, 'line5': 1, 'line6': 1, 'line7': 4, 'line8': 2, 'line9': 2}\n"
     ]
    }
   ],
   "source": [
    "def uniquewordcount(filename):\n",
    "    count={}\n",
    "    with open(filename,\"r\") as f:\n",
    "        filedata=f.read()\n",
    "        list=filedata.split()\n",
    "        for i in list:\n",
    "            if i in count :\n",
    "                count[i] += 1\n",
    "            else:\n",
    "                count[i] = 1\n",
    "    print(count)\n",
    "uniquewordcount(filename)     \n",
    "        "
   ]
  },
  {
   "cell_type": "code",
   "execution_count": 10,
   "metadata": {},
   "outputs": [
    {
     "data": {
      "text/plain": [
       "9"
      ]
     },
     "execution_count": 10,
     "metadata": {},
     "output_type": "execute_result"
    }
   ],
   "source": [
    "def uniquewordcount(filename):\n",
    "    unique = []\n",
    "    with open(filename,\"r\") as f:\n",
    "        filedata=f.read()\n",
    "        list=filedata.split()\n",
    "        for i in list:\n",
    "            if i not in unique:\n",
    "                unique.append(i)\n",
    "        return len(unique)\n",
    "            \n",
    "uniquewordcount(filename)"
   ]
  },
  {
   "cell_type": "code",
   "execution_count": null,
   "metadata": {},
   "outputs": [],
   "source": []
  },
  {
   "cell_type": "code",
   "execution_count": 23,
   "metadata": {},
   "outputs": [
    {
     "ename": "SyntaxError",
     "evalue": "invalid syntax (<ipython-input-23-01fc9a1fac75>, line 19)",
     "output_type": "error",
     "traceback": [
      "\u001b[1;36m  File \u001b[1;32m\"<ipython-input-23-01fc9a1fac75>\"\u001b[1;36m, line \u001b[1;32m19\u001b[0m\n\u001b[1;33m    elif:\u001b[0m\n\u001b[1;37m        ^\u001b[0m\n\u001b[1;31mSyntaxError\u001b[0m\u001b[1;31m:\u001b[0m invalid syntax\n"
     ]
    }
   ],
   "source": [
    "def isprime(n):\n",
    "    count=0\n",
    "    for i in range(1,n+1):\n",
    "        if (n % i)==0:\n",
    "            count = count + 1\n",
    "        if count==2 or n==2:\n",
    "            return True\n",
    "        else:\n",
    "            return False\n",
    "T=int(input())\n",
    "N=int(input())\n",
    "for i in range(0,T):\n",
    "    s=input()\n",
    "def magicalword(s):\n",
    "    li=[]\n",
    "    for i in s:\n",
    "        if isprime(ord(\"i\")):\n",
    "            li.append(i)\n",
    "        elif:\n",
    "            k=ord(\"i\")\n",
    "            k=k+1\n",
    "            if isprime(k):\n",
    "                li.append(k)\n",
    "            else:\n",
    "                k=k+1\n",
    "                if isprime(k):\n",
    "                    li.append(k)\n",
    "print(li)\n",
    "        \n",
    "magicalword(s)   "
   ]
  },
  {
   "cell_type": "code",
   "execution_count": 6,
   "metadata": {},
   "outputs": [
    {
     "data": {
      "text/plain": [
       "False"
      ]
     },
     "execution_count": 6,
     "metadata": {},
     "output_type": "execute_result"
    }
   ],
   "source": [
    "def isprime(n):\n",
    "    count=0\n",
    "    for i in range(1,n+1):\n",
    "        if (n % i)==0:\n",
    "            count = count + 1\n",
    "        if count==2 or n==2:\n",
    "            return True\n",
    "        else:\n",
    "            return False\n",
    "isprime(5)"
   ]
  },
  {
   "cell_type": "code",
   "execution_count": 23,
   "metadata": {},
   "outputs": [
    {
     "ename": "SyntaxError",
     "evalue": "unexpected EOF while parsing (<ipython-input-23-aaa7c80f356d>, line 20)",
     "output_type": "error",
     "traceback": [
      "\u001b[1;36m  File \u001b[1;32m\"<ipython-input-23-aaa7c80f356d>\"\u001b[1;36m, line \u001b[1;32m20\u001b[0m\n\u001b[1;33m    #print (li)\u001b[0m\n\u001b[1;37m               ^\u001b[0m\n\u001b[1;31mSyntaxError\u001b[0m\u001b[1;31m:\u001b[0m unexpected EOF while parsing\n"
     ]
    }
   ],
   "source": [
    "s='KAVITHA'\n",
    "#s=s.split()\n",
    "li=[]\n",
    "count=0\n",
    "listOfPrimes=[]\n",
    "for i in range(0,len(s)):\n",
    "    #print(s[i])\n",
    "    li.append(ord(s[i]))\n",
    "    for n in li:\n",
    "        #print(n)\n",
    "        \n",
    "        \n",
    "            \n",
    "#print(listOfPrimes)\n",
    "            \n",
    "            \n",
    "        \n",
    "        \n",
    "        \n",
    "#print (li)"
   ]
  },
  {
   "cell_type": "code",
   "execution_count": 35,
   "metadata": {},
   "outputs": [
    {
     "name": "stdout",
     "output_type": "stream",
     "text": [
      "LLRDDR\n",
      "0 -2\n"
     ]
    }
   ],
   "source": [
    "s=input()\n",
    "x=0\n",
    "y=0\n",
    "#s=s.split()\n",
    "s=list(s)\n",
    "for i in s:\n",
    "    if i=='L':\n",
    "        x=x-1\n",
    "    elif i=='R':\n",
    "        x=x+1\n",
    "    elif i=='D':\n",
    "        y=y-1\n",
    "    elif i=='U':\n",
    "        y=y+1\n",
    "print(x,y)\n",
    "        \n",
    "        \n",
    "    "
   ]
  },
  {
   "cell_type": "code",
   "execution_count": 45,
   "metadata": {},
   "outputs": [
    {
     "name": "stdout",
     "output_type": "stream",
     "text": [
      "13\n",
      "13\n",
      "1\n",
      "10\n",
      "2\n",
      "4\n",
      "3\n",
      "motu\n"
     ]
    }
   ],
   "source": [
    "N=int(input())\n",
    "i=1\n",
    "while(N>(3*)):\n",
    "    N=N-3*i\n",
    "    i +=1\n",
    "if(N>i):\n",
    "    print(\"motu\")\n",
    "else:\n",
    "    print(\"patlu\")\n",
    "        "
   ]
  },
  {
   "cell_type": "code",
   "execution_count": 3,
   "metadata": {},
   "outputs": [
    {
     "name": "stdout",
     "output_type": "stream",
     "text": [
      "2\n",
      "100\n",
      "101\n",
      "yes\n",
      "90\n",
      "No\n"
     ]
    }
   ],
   "source": [
    "\n",
    "def SkilledFriend(Y):\n",
    "    if X<Y:\n",
    "        print(\"yes\")\n",
    "    else:\n",
    "        print(\"No\")\n",
    "    \n",
    "N=int(input())\n",
    "X=int(input())\n",
    "for i in range(0,N):\n",
    "    Y=int(input())\n",
    "    SkilledFriend(Y)"
   ]
  },
  {
   "cell_type": "code",
   "execution_count": null,
   "metadata": {},
   "outputs": [],
   "source": []
  }
 ],
 "metadata": {
  "kernelspec": {
   "display_name": "Python 3",
   "language": "python",
   "name": "python3"
  },
  "language_info": {
   "codemirror_mode": {
    "name": "ipython",
    "version": 3
   },
   "file_extension": ".py",
   "mimetype": "text/x-python",
   "name": "python",
   "nbconvert_exporter": "python",
   "pygments_lexer": "ipython3",
   "version": "3.7.3"
  }
 },
 "nbformat": 4,
 "nbformat_minor": 2
}
