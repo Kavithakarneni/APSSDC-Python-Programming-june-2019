{
 "cells": [
  {
   "cell_type": "markdown",
   "metadata": {},
   "source": [
    "# Problem Solving and Programming\n",
    "\n",
    "**date 12 june 2019**\n",
    "\n",
    "**day Objectives**\n",
    "\n",
    "- string Slicing\n",
    "- fuctions in python\n",
    "- String Slicing\n",
    "- Functions in Python\n",
    "- Basic Problems related to conditional statements using functions\n",
    "- Iteration in Python\n",
    "- Python Data Structures -List,Tuples and Dictionaries\n",
    "- Basic Operations on data structure\n",
    "- Applying data Structure to solve problems"
   ]
  },
  {
   "cell_type": "code",
   "execution_count": null,
   "metadata": {},
   "outputs": [],
   "source": []
  },
  {
   "cell_type": "code",
   "execution_count": null,
   "metadata": {},
   "outputs": [],
   "source": []
  },
  {
   "cell_type": "markdown",
   "metadata": {},
   "source": [
    "# String Slicing"
   ]
  },
  {
   "cell_type": "code",
   "execution_count": 22,
   "metadata": {},
   "outputs": [
    {
     "data": {
      "text/plain": [
       "'nohty'"
      ]
     },
     "execution_count": 22,
     "metadata": {},
     "output_type": "execute_result"
    }
   ],
   "source": [
    "s1= \"python\"\n",
    "\n",
    "#s1[0] #Accesessing the first charecter in a string\n",
    "#s1[1] #Accesessing the second charecter in a string\n",
    "#s1[len(s1)-1]#Accesessing the last charecter in a string\n",
    "#s1[-1]#Accesessing the last charecter in a string\n",
    "\n",
    "#s1[0:4]#Accesessing the 1st four charecter in a string\n",
    "#s1[-2:]#Accesessing the last two charecter in a string\n",
    "#s1[4:]#Accesessing the fifth charecter to end in a string\n",
    "#s1[1:-1]#Accesessing the middle charecters to end in a string\n",
    "#s1[len(s1)//2]#Accesessing the middle charecter to end in a string\n",
    "#s1[-1::-1] #Reverse of a string\n",
    "# Accessing last two characters in reverse order\n",
    "#s1[-1:0:-1]# Access revese the middle two characters in an even length string\n",
    "#s1[len(s1)//2]:1:-1\n",
    "#s1[::2]\n",
    "#s1[::-2]\n",
    "s1[-1:0:-1]\n",
    "\n",
    "\n",
    "        "
   ]
  },
  {
   "cell_type": "code",
   "execution_count": 66,
   "metadata": {},
   "outputs": [
    {
     "data": {
      "text/plain": [
       "'nohtyp'"
      ]
     },
     "execution_count": 66,
     "metadata": {},
     "output_type": "execute_result"
    }
   ],
   "source": [
    "#function to reverse of string\n",
    "def reverseString(s):\n",
    "    return s[::-1]\n",
    "\n",
    "reverseString(\"python\")"
   ]
  },
  {
   "cell_type": "code",
   "execution_count": 72,
   "metadata": {},
   "outputs": [
    {
     "data": {
      "text/plain": [
       "True"
      ]
     },
     "execution_count": 72,
     "metadata": {},
     "output_type": "execute_result"
    }
   ],
   "source": [
    "#function to check if a string is a palindrome\n",
    "def palindrome(s):\n",
    "    if s== s[::-1]:\n",
    "        return True\n",
    "    else:\n",
    "        return False\n",
    "palindrome(\"52325\")"
   ]
  },
  {
   "cell_type": "code",
   "execution_count": 77,
   "metadata": {},
   "outputs": [
    {
     "data": {
      "text/plain": [
       "False"
      ]
     },
     "execution_count": 77,
     "metadata": {},
     "output_type": "execute_result"
    }
   ],
   "source": [
    "#function check if a given year is a leap year\n",
    "def isleapyear(year):\n",
    "    if year%400==0 or (year%100!=0 and year%4==0):\n",
    "        return True\n",
    "    return False\n",
    "isleapyear(2019)"
   ]
  },
  {
   "cell_type": "code",
   "execution_count": 84,
   "metadata": {},
   "outputs": [
    {
     "data": {
      "text/plain": [
       "5"
      ]
     },
     "execution_count": 84,
     "metadata": {},
     "output_type": "execute_result"
    }
   ],
   "source": [
    "#count the number of digits in a given number\n",
    "def numberofdigits(number):\n",
    "    return len(str(number))\n",
    "    \n",
    "    \n",
    "numberofdigits(12345)"
   ]
  },
  {
   "cell_type": "code",
   "execution_count": 90,
   "metadata": {},
   "outputs": [
    {
     "name": "stdout",
     "output_type": "stream",
     "text": [
      "c is bigger\n"
     ]
    }
   ],
   "source": [
    "#function to identify the greatest of 4 numbers\n",
    "def greatestof(a,b,c,d):\n",
    "    if a>b and a>c and a>d:\n",
    "        print(\"a is bigger\")\n",
    "    elif b>c and b>d:\n",
    "        print(\"b is bigger\")\n",
    "    elif c>d:\n",
    "        print(\"c is bigger\")\n",
    "    else:\n",
    "        print(\"d is bigger\")\n",
    "greatestof(1,3,4,2)"
   ]
  },
  {
   "cell_type": "code",
   "execution_count": null,
   "metadata": {},
   "outputs": [],
   "source": []
  },
  {
   "cell_type": "markdown",
   "metadata": {},
   "source": [
    "## iteration\n",
    "\n",
    "- for\n",
    "- while\n",
    "\n",
    "## for loop in python\n",
    "[101,210]\n",
    "for number in range(101,211) "
   ]
  },
  {
   "cell_type": "code",
   "execution_count": 93,
   "metadata": {},
   "outputs": [
    {
     "name": "stdout",
     "output_type": "stream",
     "text": [
      "1 2 3 4 5 6 7 8 9 10 11 12 13 14 15 16 17 18 19 20 21 22 23 24 25 26 27 28 29 30 1 2 3 4 5 6 7 8 9 10 11 12 13 14 15 "
     ]
    }
   ],
   "source": [
    "#function to print n natural numbers\n",
    "def printNNaturalNumbers(n):\n",
    "    for counter in range(1,n+1):\n",
    "        print(counter,end=\" \")\n",
    "    return\n",
    "\n",
    "printNNaturalNumbers(30)\n",
    "printNNaturalNumbers(15)"
   ]
  },
  {
   "cell_type": "code",
   "execution_count": 3,
   "metadata": {},
   "outputs": [
    {
     "name": "stdout",
     "output_type": "stream",
     "text": [
      "500 504 508 512 516 520 524 "
     ]
    }
   ],
   "source": [
    "#Function to print the alternate values in a range in the same line.\n",
    "#[500,550]\n",
    "#[] inclusive Set-->500,502,504......550\n",
    "#() exclusive set-->501,503,505......549\n",
    "# range(500,550)-->501,502,503......549\n",
    "\n",
    "def alternatevalues(start,end):\n",
    "    for value in range(start,end+1,4):\n",
    "        print(value,end=\" \")\n",
    "    return\n",
    "alternatevalues(500,525)\n"
   ]
  },
  {
   "cell_type": "code",
   "execution_count": 31,
   "metadata": {},
   "outputs": [],
   "source": [
    "#Function to print the  reverse of  a range in the same line\n",
    "def reverse(a,b):\n",
    "    for number in range(b,a-1,-1):\n",
    "        print(number,end=\" \")\n",
    "    return\n",
    "reverse(1,10)"
   ]
  },
  {
   "cell_type": "code",
   "execution_count": 15,
   "metadata": {},
   "outputs": [
    {
     "name": "stdout",
     "output_type": "stream",
     "text": [
      "9 7 5 3 1 "
     ]
    }
   ],
   "source": [
    "#funtion to print the odd numbers in reverse aoder\n",
    "def reverse(a,b):\n",
    "    for number in range(b,a-1,-1):\n",
    "        if number%2!=0:\n",
    "            print(number,end=\" \")\n",
    "    return\n",
    "reverse(1,10)"
   ]
  },
  {
   "cell_type": "code",
   "execution_count": 23,
   "metadata": {},
   "outputs": [
    {
     "data": {
      "text/plain": [
       "15150"
      ]
     },
     "execution_count": 23,
     "metadata": {},
     "output_type": "execute_result"
    }
   ],
   "source": [
    "#function to calculate sum of numbers in a range\n",
    "def sumofnumbers(x,y):\n",
    "    add=0\n",
    "    for i in range(x,y+1):\n",
    "        add=add+i\n",
    "    return add\n",
    "sumofnumbers(100,200)    "
   ]
  },
  {
   "cell_type": "code",
   "execution_count": 33,
   "metadata": {},
   "outputs": [
    {
     "data": {
      "text/plain": [
       "2.0"
      ]
     },
     "execution_count": 33,
     "metadata": {},
     "output_type": "execute_result"
    }
   ],
   "source": [
    "#average of a given range\n",
    "def averege(n1,n2):\n",
    "    #i=0\n",
    "    add=0\n",
    "    for n in range(n1,n2+1):\n",
    "        #i=i+1\n",
    "        add=add+n\n",
    "        avg=add/((n2+1)-n1)\n",
    "    return avg\n",
    "averege(1,3)"
   ]
  },
  {
   "cell_type": "code",
   "execution_count": 59,
   "metadata": {},
   "outputs": [
    {
     "name": "stdout",
     "output_type": "stream",
     "text": [
      "2000 2004 2008 2012 2016 2020 "
     ]
    }
   ],
   "source": [
    "#function to generate the leap year in a range\n",
    "def isleapyear(year):\n",
    "    if year%400==0 or (year%100!=0 and year%4==0):\n",
    "        return True\n",
    "    return False\n",
    "def generateleapsin(n1,n2):\n",
    "    for year in range(n1,n2+1):\n",
    "        if isleapyear(year):\n",
    "            print(year,end=\" \")\n",
    "        \n",
    "generateleapsin(2000,2020)\n",
    "        "
   ]
  },
  {
   "cell_type": "code",
   "execution_count": 62,
   "metadata": {},
   "outputs": [
    {
     "data": {
      "text/plain": [
       "1076"
      ]
     },
     "execution_count": 62,
     "metadata": {},
     "output_type": "execute_result"
    }
   ],
   "source": [
    "#calculate number of days in a given time periode \n",
    "def daysin(startyear,endyear):\n",
    "    i=0\n",
    "    for year in range(startyear,endyear+1):\n",
    "        if isleapyear(year):\n",
    "            i=i+366\n",
    "        else:\n",
    "            i=i+355\n",
    "    return i\n",
    "\n",
    "daysin(2000,2002)\n",
    "    "
   ]
  },
  {
   "cell_type": "code",
   "execution_count": 79,
   "metadata": {},
   "outputs": [
    {
     "ename": "NameError",
     "evalue": "name 'isleapyear' is not defined",
     "output_type": "error",
     "traceback": [
      "\u001b[1;31m---------------------------------------------------------------------------\u001b[0m",
      "\u001b[1;31mNameError\u001b[0m                                 Traceback (most recent call last)",
      "\u001b[1;32m<ipython-input-79-e2b43c846cb3>\u001b[0m in \u001b[0;36m<module>\u001b[1;34m\u001b[0m\n\u001b[0;32m     48\u001b[0m         \u001b[1;32mreturn\u001b[0m \u001b[1;36m24\u001b[0m \u001b[1;33m*\u001b[0m \u001b[0mdays\u001b[0m\u001b[1;33m\u001b[0m\u001b[1;33m\u001b[0m\u001b[0m\n\u001b[0;32m     49\u001b[0m \u001b[1;33m\u001b[0m\u001b[0m\n\u001b[1;32m---> 50\u001b[1;33m \u001b[0mnumberofhours\u001b[0m\u001b[1;33m(\u001b[0m\u001b[1;36m5\u001b[0m\u001b[1;33m,\u001b[0m\u001b[1;36m2019\u001b[0m\u001b[1;33m,\u001b[0m\u001b[1;36m6\u001b[0m\u001b[1;33m,\u001b[0m\u001b[1;36m2020\u001b[0m\u001b[1;33m)\u001b[0m\u001b[1;33m\u001b[0m\u001b[1;33m\u001b[0m\u001b[0m\n\u001b[0m",
      "\u001b[1;32m<ipython-input-79-e2b43c846cb3>\u001b[0m in \u001b[0;36mnumberofhours\u001b[1;34m(startmonth, startyear, endmonth, endyear)\u001b[0m\n\u001b[0;32m     39\u001b[0m         \u001b[0mdays\u001b[0m \u001b[1;33m+=\u001b[0m \u001b[0mdaysinendyear\u001b[0m\u001b[1;33m(\u001b[0m\u001b[0mendmonth\u001b[0m\u001b[1;33m,\u001b[0m\u001b[0mendyear\u001b[0m\u001b[1;33m)\u001b[0m\u001b[1;33m\u001b[0m\u001b[1;33m\u001b[0m\u001b[0m\n\u001b[0;32m     40\u001b[0m         \u001b[1;32mif\u001b[0m \u001b[0mendyear\u001b[0m \u001b[1;33m-\u001b[0m \u001b[0mstartyear\u001b[0m \u001b[1;33m==\u001b[0m \u001b[1;36m1\u001b[0m\u001b[1;33m:\u001b[0m\u001b[1;33m\u001b[0m\u001b[1;33m\u001b[0m\u001b[0m\n\u001b[1;32m---> 41\u001b[1;33m             \u001b[0mdays\u001b[0m\u001b[1;33m+=\u001b[0m\u001b[0mdaysin\u001b[0m\u001b[1;33m(\u001b[0m\u001b[0mstartyear\u001b[0m\u001b[1;33m+\u001b[0m\u001b[1;36m1\u001b[0m\u001b[1;33m,\u001b[0m\u001b[0mstartyear\u001b[0m\u001b[1;33m+\u001b[0m\u001b[1;36m1\u001b[0m\u001b[1;33m)\u001b[0m\u001b[1;33m\u001b[0m\u001b[1;33m\u001b[0m\u001b[0m\n\u001b[0m\u001b[0;32m     42\u001b[0m         \u001b[1;32melif\u001b[0m \u001b[0mendyear\u001b[0m \u001b[1;33m-\u001b[0m \u001b[0mstartyear\u001b[0m \u001b[1;33m>\u001b[0m \u001b[1;36m2\u001b[0m\u001b[1;33m:\u001b[0m\u001b[1;33m\u001b[0m\u001b[1;33m\u001b[0m\u001b[0m\n\u001b[0;32m     43\u001b[0m             \u001b[0mdays\u001b[0m \u001b[1;33m+=\u001b[0m \u001b[0mdaysin\u001b[0m\u001b[1;33m(\u001b[0m\u001b[0mstartyear\u001b[0m\u001b[1;33m+\u001b[0m\u001b[1;36m1\u001b[0m\u001b[1;33m,\u001b[0m\u001b[0mendyear\u001b[0m\u001b[1;33m-\u001b[0m\u001b[1;36m1\u001b[0m\u001b[1;33m)\u001b[0m\u001b[1;33m\u001b[0m\u001b[1;33m\u001b[0m\u001b[0m\n",
      "\u001b[1;32m<ipython-input-79-e2b43c846cb3>\u001b[0m in \u001b[0;36mdaysin\u001b[1;34m(startyear, endyear)\u001b[0m\n\u001b[0;32m      4\u001b[0m     \u001b[0mi\u001b[0m\u001b[1;33m=\u001b[0m\u001b[1;36m0\u001b[0m\u001b[1;33m\u001b[0m\u001b[1;33m\u001b[0m\u001b[0m\n\u001b[0;32m      5\u001b[0m     \u001b[1;32mfor\u001b[0m \u001b[0myear\u001b[0m \u001b[1;32min\u001b[0m \u001b[0mrange\u001b[0m\u001b[1;33m(\u001b[0m\u001b[0mstartyear\u001b[0m\u001b[1;33m,\u001b[0m\u001b[0mendyear\u001b[0m\u001b[1;33m+\u001b[0m\u001b[1;36m1\u001b[0m\u001b[1;33m)\u001b[0m\u001b[1;33m:\u001b[0m\u001b[1;33m\u001b[0m\u001b[1;33m\u001b[0m\u001b[0m\n\u001b[1;32m----> 6\u001b[1;33m         \u001b[1;32mif\u001b[0m \u001b[0misleapyear\u001b[0m\u001b[1;33m(\u001b[0m\u001b[0myear\u001b[0m\u001b[1;33m)\u001b[0m\u001b[1;33m:\u001b[0m\u001b[1;33m\u001b[0m\u001b[1;33m\u001b[0m\u001b[0m\n\u001b[0m\u001b[0;32m      7\u001b[0m             \u001b[0mi\u001b[0m\u001b[1;33m=\u001b[0m\u001b[0mi\u001b[0m\u001b[1;33m+\u001b[0m\u001b[1;36m366\u001b[0m\u001b[1;33m\u001b[0m\u001b[1;33m\u001b[0m\u001b[0m\n\u001b[0;32m      8\u001b[0m         \u001b[1;32melse\u001b[0m\u001b[1;33m:\u001b[0m\u001b[1;33m\u001b[0m\u001b[1;33m\u001b[0m\u001b[0m\n",
      "\u001b[1;31mNameError\u001b[0m: name 'isleapyear' is not defined"
     ]
    }
   ],
   "source": [
    "#function to calculate number of hours for a given period\n",
    "#(11,1975,03,1999)\n",
    "def daysin(startyear,endyear):\n",
    "    i=0\n",
    "    for year in range(startyear,endyear+1):\n",
    "        if isleapyear(year):\n",
    "            i=i+366\n",
    "        else:\n",
    "            i=i+355\n",
    "    return i\n",
    "def numberofdaysmonth(month,year):\n",
    "    if month==0:\n",
    "        if isleapyear(year):\n",
    "            return 29\n",
    "        return 28\n",
    "    elif (month <= 7 and month % 2!=0) or (month==8):\n",
    "        return 31\n",
    "    else:\n",
    "        return 30\n",
    "#numberofdaysmonth(5,2019)\n",
    "\n",
    "\n",
    "def daysinthestartyear(startmonth,startyear):\n",
    "    days = 0\n",
    "    for month in range(startmonth,13):\n",
    "        days+=numberofdaysmonth(month,startyear)\n",
    "    return days\n",
    "\n",
    "def daysinendyear(endmonth,endyear):\n",
    "    days = 0\n",
    "    for month in range(1,endmonth+1):\n",
    "        days += numberofdaysmonth(month,endyear)\n",
    "    return days\n",
    "\n",
    "def numberofhours(startmonth,startyear,endmonth,endyear):\n",
    "    if startyear!=endyear:\n",
    "        days = 0\n",
    "        days += daysinthestartyear(startmonth,startyear)\n",
    "        days += daysinendyear(endmonth,endyear)\n",
    "        if endyear - startyear == 1:\n",
    "            days+=daysin(startyear+1,startyear+1)\n",
    "        elif endyear - startyear > 2:\n",
    "            days += daysin(startyear+1,endyear-1)\n",
    "        else:\n",
    "            for month in range(startmonth,endmonth+1):\n",
    "                days +=daysin(month,startyear)\n",
    "            \n",
    "        return 24 * days\n",
    "\n",
    "numberofhours(5,2019,6,2020)\n"
   ]
  },
  {
   "cell_type": "code",
   "execution_count": 30,
   "metadata": {},
   "outputs": [
    {
     "name": "stdout",
     "output_type": "stream",
     "text": [
      "1\n"
     ]
    }
   ],
   "source": [
    "#function to print N Natural using a while loop\n",
    "def nNaturalNumber(n):\n",
    "    counter = 1\n",
    "    while counter <= n:\n",
    "        print(counter)\n",
    "        counter = counter + 1\n",
    "    return\n",
    "\n",
    "nNaturalNumber(1)\n",
    "    "
   ]
  },
  {
   "cell_type": "code",
   "execution_count": 115,
   "metadata": {},
   "outputs": [
    {
     "name": "stdout",
     "output_type": "stream",
     "text": [
      "6 12 18 24 30 36 42 48 54 60 66 72 78 84 90 96 102 108 114 "
     ]
    }
   ],
   "source": [
    "#function to print all numbers divisible by 6 and\n",
    "#and not a factor of 100 in a given range(lb, ub) inclusive\n",
    "def rangein(n1,n2):\n",
    "    for counter in range(n1,n2):\n",
    "        if counter%6==0 and 100%counter!=0:\n",
    "            print(counter,end=\" \")\n",
    "        \n",
    "rangein(6,120)"
   ]
  },
  {
   "cell_type": "code",
   "execution_count": null,
   "metadata": {},
   "outputs": [],
   "source": []
  },
  {
   "cell_type": "code",
   "execution_count": 120,
   "metadata": {},
   "outputs": [
    {
     "name": "stdout",
     "output_type": "stream",
     "text": [
      "96.0\n"
     ]
    }
   ],
   "source": [
    "#fuction to find the average of cubes of all even numbers \n",
    "#in a given range(lb, ub) inclusive\n",
    "def rangeof(n3,n4):\n",
    "    i=0\n",
    "    cube=0\n",
    "    for count in range(n3,n4):\n",
    "        if count%2==0:\n",
    "            i=i+1\n",
    "            cube=cube+count**3\n",
    "            count=count+1\n",
    "    print(cube/i)\n",
    "            \n",
    "rangeof(1,7)\n",
    "        "
   ]
  },
  {
   "cell_type": "code",
   "execution_count": 130,
   "metadata": {},
   "outputs": [
    {
     "name": "stdout",
     "output_type": "stream",
     "text": [
      "1 2 3 4 5 6 8 10 12 15 20 24 30 40 60 120 "
     ]
    }
   ],
   "source": [
    "#function for list of factors in a given number\n",
    "def factors(n5):\n",
    "    for cont in range (1,n5+1):\n",
    "        if n5%cont==0:\n",
    "            print(cont,end=\" \")\n",
    "            cont=cont+1\n",
    "factors(120)"
   ]
  },
  {
   "cell_type": "code",
   "execution_count": 131,
   "metadata": {},
   "outputs": [
    {
     "name": "stdout",
     "output_type": "stream",
     "text": [
      "3628800\n"
     ]
    }
   ],
   "source": [
    "#fuction for factorial of given number\n",
    "def factorial(n6):\n",
    "    f=1\n",
    "    for fact in range (1,n6+1):\n",
    "        f=f*fact\n",
    "    print(f)\n",
    "factorial(10)"
   ]
  },
  {
   "cell_type": "code",
   "execution_count": 139,
   "metadata": {},
   "outputs": [
    {
     "name": "stdout",
     "output_type": "stream",
     "text": [
      "prime number\n"
     ]
    }
   ],
   "source": [
    "#function to check if the given number is prime\n",
    "def primeof(a):\n",
    "    \n",
    "        print(\"not prime number\")\n",
    "    else:\n",
    "        print(\"prime number\")\n",
    "primeof(17)\n",
    "        \n",
    "    \n",
    "    \n",
    "    "
   ]
  },
  {
   "cell_type": "code",
   "execution_count": 45,
   "metadata": {},
   "outputs": [
    {
     "data": {
      "text/plain": [
       "1"
      ]
     },
     "execution_count": 45,
     "metadata": {},
     "output_type": "execute_result"
    }
   ],
   "source": [
    "def isprime(n):\n",
    "    for i in range(2,n//2):\n",
    "        if n%i==0:\n",
    "            return False\n",
    "        else:\n",
    "            return True\n",
    "isPrime(167)"
   ]
  },
  {
   "cell_type": "code",
   "execution_count": 1,
   "metadata": {},
   "outputs": [],
   "source": [
    "\n",
    "            \n",
    "def primesin(N):\n",
    "    for n in range(1,N+1):\n",
    "        if isprime(n)==true:\n",
    "            print(n)"
   ]
  },
  {
   "cell_type": "code",
   "execution_count": 149,
   "metadata": {},
   "outputs": [
    {
     "data": {
      "text/plain": [
       "10.4"
      ]
     },
     "execution_count": 149,
     "metadata": {},
     "output_type": "execute_result"
    }
   ],
   "source": [
    "#function to calculate the average first N prime number\n",
    "def avgNprime(n):\n",
    "    primeCount = 0\n",
    "    sum = 0\n",
    "    seqCount =2\n",
    "    while(primeCount<n):\n",
    "        if isPrime(seqCount):\n",
    "            primeCount += 1\n",
    "            sum += seqCount\n",
    "        seqCount += 1\n",
    "    return sum/n\n",
    "avgNprime(10)"
   ]
  },
  {
   "cell_type": "code",
   "execution_count": null,
   "metadata": {},
   "outputs": [],
   "source": [
    "#function to generate all perfect number in a given range"
   ]
  },
  {
   "cell_type": "code",
   "execution_count": 44,
   "metadata": {},
   "outputs": [
    {
     "ename": "UnboundLocalError",
     "evalue": "local variable 'n' referenced before assignment",
     "output_type": "error",
     "traceback": [
      "\u001b[1;31m---------------------------------------------------------------------------\u001b[0m",
      "\u001b[1;31mUnboundLocalError\u001b[0m                         Traceback (most recent call last)",
      "\u001b[1;32m<ipython-input-44-925d64e0fbea>\u001b[0m in \u001b[0;36m<module>\u001b[1;34m\u001b[0m\n\u001b[0;32m     19\u001b[0m \u001b[1;33m\u001b[0m\u001b[0m\n\u001b[0;32m     20\u001b[0m     \u001b[1;32mreturn\u001b[0m \u001b[0msum\u001b[0m\u001b[1;33m/\u001b[0m\u001b[0mk\u001b[0m\u001b[1;33m\u001b[0m\u001b[1;33m\u001b[0m\u001b[0m\n\u001b[1;32m---> 21\u001b[1;33m \u001b[0mgenratefactor\u001b[0m\u001b[1;33m(\u001b[0m\u001b[1;36m1\u001b[0m\u001b[1;33m,\u001b[0m\u001b[1;36m3\u001b[0m\u001b[1;33m)\u001b[0m\u001b[1;33m\u001b[0m\u001b[1;33m\u001b[0m\u001b[0m\n\u001b[0m\u001b[0;32m     22\u001b[0m \u001b[1;33m\u001b[0m\u001b[0m\n",
      "\u001b[1;32m<ipython-input-44-925d64e0fbea>\u001b[0m in \u001b[0;36mgenratefactor\u001b[1;34m(n1, n2)\u001b[0m\n\u001b[0;32m      8\u001b[0m     \u001b[1;32mdef\u001b[0m \u001b[0mfactof\u001b[0m\u001b[1;33m(\u001b[0m\u001b[0mn\u001b[0m\u001b[1;33m)\u001b[0m\u001b[1;33m:\u001b[0m\u001b[1;33m\u001b[0m\u001b[1;33m\u001b[0m\u001b[0m\n\u001b[0;32m      9\u001b[0m         \u001b[0mi\u001b[0m\u001b[1;33m=\u001b[0m\u001b[1;36m1\u001b[0m\u001b[1;33m\u001b[0m\u001b[1;33m\u001b[0m\u001b[0m\n\u001b[1;32m---> 10\u001b[1;33m     \u001b[1;32mfor\u001b[0m \u001b[0mf\u001b[0m \u001b[1;32min\u001b[0m \u001b[0mrange\u001b[0m\u001b[1;33m(\u001b[0m\u001b[1;36m1\u001b[0m\u001b[1;33m,\u001b[0m\u001b[0mn\u001b[0m\u001b[1;33m+\u001b[0m\u001b[1;36m1\u001b[0m\u001b[1;33m)\u001b[0m\u001b[1;33m:\u001b[0m\u001b[1;33m\u001b[0m\u001b[1;33m\u001b[0m\u001b[0m\n\u001b[0m\u001b[0;32m     11\u001b[0m         \u001b[0mi\u001b[0m\u001b[1;33m=\u001b[0m\u001b[0mi\u001b[0m\u001b[1;33m*\u001b[0m\u001b[0mf\u001b[0m\u001b[1;33m\u001b[0m\u001b[1;33m\u001b[0m\u001b[0m\n\u001b[0;32m     12\u001b[0m     \u001b[1;32mreturn\u001b[0m \u001b[0mi\u001b[0m\u001b[1;33m\u001b[0m\u001b[1;33m\u001b[0m\u001b[0m\n",
      "\u001b[1;31mUnboundLocalError\u001b[0m: local variable 'n' referenced before assignment"
     ]
    }
   ],
   "source": [
    "#function to calculate average of all factorials in a given range\n",
    "def factof(n):\n",
    "    i=1\n",
    "    for f in range(1,n+1):\n",
    "        i=i*f\n",
    "    return i\n",
    "def genratefactor(n1,n2):\n",
    "    k=0\n",
    "    sum=0\n",
    "    for n in range(n1,n2+1):\n",
    "        if factof(n):\n",
    "            k=k+1\n",
    "        sum=sum+i\n",
    "        \n",
    "    return sum/k\n",
    "genratefactor(1,3)\n",
    "    "
   ]
  },
  {
   "cell_type": "code",
   "execution_count": 38,
   "metadata": {},
   "outputs": [],
   "source": [
    "def leapyear(year):\n",
    "    if year%400==0 or (year%100!=0 and year%4==0):\n",
    "        return True\n",
    "    return False"
   ]
  },
  {
   "cell_type": "code",
   "execution_count": 46,
   "metadata": {},
   "outputs": [
    {
     "name": "stdout",
     "output_type": "stream",
     "text": [
      "Number of hours 10224\n"
     ]
    }
   ],
   "source": [
    "#Function to calculate number of hours for a given time period\n",
    "#(11,1975,3,1999)\n",
    "def leapyear(year):\n",
    "    if year%400==0 or (year%100!=0 and year%4==0):\n",
    "        return True\n",
    "    return False\n",
    "def numberofhours(month1,year1,month2,year2):\n",
    "    lp=366\n",
    "    nlp=365\n",
    "    add=0\n",
    "    add1=0\n",
    "    for year in range(year1+1,year2):\n",
    "        if leapyear(year):\n",
    "            add=add+lp\n",
    "        else:\n",
    "            add1=add1+nlp\n",
    "    sum1=add+add1\n",
    "    if leapyear(year1):\n",
    "        s=0\n",
    "        p=0\n",
    "        q=0\n",
    "        for month in range(month1,12+1):\n",
    "            if month==1 or month==3 or month==5 or month==7 or month==9 or month==11 or month==8:\n",
    "                s=s+31\n",
    "            elif month==4 or month==6 or month==10 or month==12:\n",
    "                p=p+30\n",
    "            elif month==2:\n",
    "                q=q+29\n",
    "        loop1=s+p+q\n",
    "    else:\n",
    "        s=0\n",
    "        p=0\n",
    "        q=0\n",
    "        for month in range(month1,12+1):\n",
    "            if month==1 or month==3 or month==5 or month==7 or month==9 or month==11 or month==8:\n",
    "                s=s+31\n",
    "            elif month==4 or month==6 or month==10 or month==12:\n",
    "                p=p+30\n",
    "            elif month==2:\n",
    "                q=q+28\n",
    "        loop1=s+p+q\n",
    "    \n",
    "    if leapyear(year2):\n",
    "        s1=0\n",
    "        p1=0\n",
    "        q1=0\n",
    "        for month in range(1,month2+1):\n",
    "            if month==1 or month==3 or month==5 or month==7 or month==9 or month==11 or month==8:\n",
    "                s1=s1+31\n",
    "            elif month==4 or month==6 or month==10 or month==12:\n",
    "                p1=p1+30\n",
    "            elif month==2:\n",
    "                q1=q1+29\n",
    "        loop2=s1+p1+q1\n",
    "    else:\n",
    "        s1=0\n",
    "        p1=0\n",
    "        q1=0\n",
    "        for month in range(1,month2+1):\n",
    "            if month==1 or month==3 or month==5 or month==7 or month==9 or month==11 or month==8:\n",
    "                s1=s1+31\n",
    "            elif month==4 or month==6 or month==10 or month==12:\n",
    "                p1=p1+30\n",
    "            elif month==2:\n",
    "                q1=q1+28\n",
    "        loop2=s1+p1+q1\n",
    "    total_days=loop1+loop2+sum1\n",
    "    total_hours=total_days*24\n",
    "    print(\"Number of hours\",total_hours)\n",
    "    \n",
    "\n",
    "numberofhours(5,2019,7,2019)"
   ]
  },
  {
   "cell_type": "code",
   "execution_count": 3,
   "metadata": {},
   "outputs": [],
   "source": [
    "def numberofdays(startyear,endyear):\n",
    "    i=0\n",
    "    k=0\n",
    "    for year in range(startyear,endyear+1):\n",
    "        if isleapyear(year):\n",
    "            i=i+366\n",
    "        else:\n",
    "            i=k+355\n",
    "    return i+k\n",
    "\n",
    "numberofdays(2000,2002)"
   ]
  },
  {
   "cell_type": "code",
   "execution_count": 4,
   "metadata": {},
   "outputs": [],
   "source": [
    "def numberofdaysmonth(month,year):\n",
    "    if month==0:\n",
    "        if isleapyear(year):\n",
    "            return 29\n",
    "        return 28\n",
    "    elif (month <= 7 and month % 2!=0) or (month==8):\n",
    "        return 31\n",
    "    else:\n",
    "        return 30\n",
    "#numberofdaysmonth(5,2019)\n",
    "\n",
    "\n",
    "def daysinthestartyear(startmonth,startyear):\n",
    "    days = 0\n",
    "    for month in range(startmonth,13):\n",
    "        days+=numberofdaysmonth(month,startyear)\n",
    "    return days\n",
    "\n",
    "def daysinendyear(endmonth,endyear):\n",
    "    days = 0\n",
    "    for month in range(1,endmonth+1):\n",
    "        days += numberofdaysmonth(month,endyear)\n",
    "    return days\n",
    "\n",
    "def numberofhours(startmonth,startyear,endmonth,endyear):\n",
    "    if startyear!=endyear:\n",
    "        days = 0\n",
    "        days += daysinthestartyear(startmonth,startyear)\n",
    "        days += daysinendyear(endmonth,endyear)\n",
    "        if endyear - startyear == 1:\n",
    "            days+=numberofdays(startyear+1,startyear+1)\n",
    "        elif endyear - startyear > 2:\n",
    "            days += numberofdays(startyear+1,endyear-1)\n",
    "        else:\n",
    "            for month in range(startmonth,endmonth+1):\n",
    "                days +=numberofdays(month,startyear)\n",
    "            \n",
    "        return 24 * days\n",
    "\n",
    "#numberofhours(5,2019,6,2020)\n"
   ]
  },
  {
   "cell_type": "code",
   "execution_count": 10,
   "metadata": {},
   "outputs": [
    {
     "name": "stdout",
     "output_type": "stream",
     "text": [
      "10 * 100 = 1000\n",
      "10 * 101 = 1010\n",
      "10 * 102 = 1020\n",
      "10 * 103 = 1030\n",
      "10 * 104 = 1040\n",
      "10 * 105 = 1050\n",
      "10 * 106 = 1060\n",
      "10 * 107 = 1070\n",
      "10 * 108 = 1080\n",
      "10 * 109 = 1090\n",
      "10 * 110 = 1100\n"
     ]
    }
   ],
   "source": [
    "#Function to generate Multiplication table for number in a given range of 10(100 to 110)\n",
    "def tablerange(n,a,b):\n",
    "    for i in range(a,b+1):\n",
    "        #table=10*i\n",
    "        print(n,\"*\",i,'=',n*i)\n",
    "        \n",
    "tablerange(10,100,110)\n",
    "        "
   ]
  },
  {
   "cell_type": "code",
   "execution_count": 23,
   "metadata": {},
   "outputs": [
    {
     "data": {
      "text/plain": [
       "24"
      ]
     },
     "execution_count": 23,
     "metadata": {},
     "output_type": "execute_result"
    }
   ],
   "source": [
    "def factorialof(n):\n",
    "    k=1\n",
    "    for n in range(1,n+1):\n",
    "            k=k*n\n",
    "    return k\n",
    "factorialof(4)"
   ]
  },
  {
   "cell_type": "code",
   "execution_count": 24,
   "metadata": {},
   "outputs": [
    {
     "data": {
      "text/plain": [
       "8.25"
      ]
     },
     "execution_count": 24,
     "metadata": {},
     "output_type": "execute_result"
    }
   ],
   "source": [
    "def factrange(n1,n2):\n",
    "    count=0\n",
    "    sum=0\n",
    "    for n in range(n1,n2+1):\n",
    "        sum=sum + factorialof(n)\n",
    "        count=count+1\n",
    "    return sum/count\n",
    "factrange(1,4)\n",
    "            \n",
    "            "
   ]
  },
  {
   "cell_type": "code",
   "execution_count": null,
   "metadata": {},
   "outputs": [],
   "source": []
  },
  {
   "cell_type": "code",
   "execution_count": null,
   "metadata": {},
   "outputs": [],
   "source": []
  }
 ],
 "metadata": {
  "kernelspec": {
   "display_name": "Python 3",
   "language": "python",
   "name": "python3"
  },
  "language_info": {
   "codemirror_mode": {
    "name": "ipython",
    "version": 3
   },
   "file_extension": ".py",
   "mimetype": "text/x-python",
   "name": "python",
   "nbconvert_exporter": "python",
   "pygments_lexer": "ipython3",
   "version": "3.7.3"
  }
 },
 "nbformat": 4,
 "nbformat_minor": 2
}
