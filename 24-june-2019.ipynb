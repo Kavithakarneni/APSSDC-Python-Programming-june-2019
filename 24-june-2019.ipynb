{
 "cells": [
  {
   "cell_type": "code",
   "execution_count": null,
   "metadata": {},
   "outputs": [],
   "source": [
    "def isPerfcectSize(W,H):\n",
    "    if H==W:\n",
    "        print(\"ACCEPTED\")\n",
    "    elif W<L or H<L:\n",
    "        print(\"UPLOAD ANOTHER\")\n",
    "    else:\n",
    "\n",
    "        print(\"CROP IT\")\n",
    "        \n",
    "        \n",
    "    \n",
    "\n",
    "\n",
    "L=int(input())\n",
    "N=int(input())\n",
    "for i in range(0,N):\n",
    "    s=input().split()\n",
    "    W=int(s[0])\n",
    "#print(type(W))\n",
    "    H=int(s[1])\n",
    "#print(type(H))\n",
    "    #isPerfcectSize(W,H)\n",
    "\n",
    "    "
   ]
  },
  {
   "cell_type": "code",
   "execution_count": 8,
   "metadata": {},
   "outputs": [],
   "source": [
    "#Contacts Application\n",
    "    # ADD,search,list,Modify,delete contact\n",
    "\n",
    "#Find and Replace Application\n",
    "    #  count the total number of occurences\n",
    "    #  if word is existing\n",
    "    #  Replace all occurances of a word with another word\n",
    "    \n",
    "#Marks Analysis Application\n",
    "#generate the marks file for n students\n",
    "    #Each line of text file contain Marks of each student \n",
    "        # Generate a report with the following information\n",
    "            # class average\n",
    "            # % of students passed\n",
    "            # % of students failed\n",
    "            # % of students with distinction\n",
    "            # highest mark Frequency\n",
    "            # lowest mark Frequency"
   ]
  },
  {
   "cell_type": "code",
   "execution_count": 4,
   "metadata": {},
   "outputs": [],
   "source": [
    "# function to generate marks data for n students\n",
    "from random import randint\n",
    "def Generatemarks(n,lb,ub):\n",
    "    with open('DataFiles/marks.txt','w') as f:\n",
    "        for i in range(0,n):\n",
    "            r=randint(lb,ub)\n",
    "            f.write(str(r)+'\\n')\n",
    "        return\n",
    "Generatemarks(1000,0,100)   "
   ]
  },
  {
   "cell_type": "markdown",
   "metadata": {},
   "source": [
    "### class average "
   ]
  },
  {
   "cell_type": "code",
   "execution_count": 6,
   "metadata": {},
   "outputs": [
    {
     "name": "stdout",
     "output_type": "stream",
     "text": [
      "49.718\n"
     ]
    }
   ],
   "source": [
    "filename='DataFiles/marks.txt'\n",
    "def classAvarage(filename):\n",
    "    summ=0\n",
    "    with open(filename,'r') as f:\n",
    "        filedata=f.read()\n",
    "        filedata=filedata.split(\"\\n\")\n",
    "        li=[]\n",
    "        for j in filedata:\n",
    "            summ=summ+1\n",
    "            li.append(int(j))\n",
    "            #print(li)\n",
    "        print(sum(li)/summ)\n",
    "classAvarage(filename)  \n",
    "    \n",
    "    "
   ]
  },
  {
   "cell_type": "code",
   "execution_count": 7,
   "metadata": {},
   "outputs": [
    {
     "name": "stdout",
     "output_type": "stream",
     "text": [
      "Percentage of failed 39.6\n",
      "Percentage of passed 60.4\n"
     ]
    }
   ],
   "source": [
    "def studentspassed(filename):\n",
    "    failed=[]\n",
    "    num=0\n",
    "    count=0\n",
    "    with open(filename,'r') as f:\n",
    "        filedata=f.read()\n",
    "        filedata=filedata.split(\"\\n\")\n",
    "        passedli=[]\n",
    "        for i in filedata:\n",
    "            if int(i)>40:\n",
    "                count=count+1\n",
    "                passedli.append(int(i))\n",
    "                #print(count)\n",
    "            else:\n",
    "                num=num+1\n",
    "                failed.append(int(i))\n",
    "        print (\"Percentage of failed\",(num/1000)*100)\n",
    "        print (\"Percentage of passed\",(count/1000)*100)\n",
    "studentspassed(filename)               "
   ]
  },
  {
   "cell_type": "code",
   "execution_count": 8,
   "metadata": {},
   "outputs": [
    {
     "name": "stdout",
     "output_type": "stream",
     "text": [
      "percentage of distinction 23.7\n"
     ]
    }
   ],
   "source": [
    "def percentageofdistinction(filename):\n",
    "    dist=0\n",
    "    with open(filename,'r') as f:\n",
    "        filedata=f.read()\n",
    "        filedata=filedata.split(\"\\n\")\n",
    "        for i in filedata:\n",
    "            if int(i)>75:\n",
    "                dist=dist+1\n",
    "        print(\"percentage of distinction\",(dist/1000)*100)\n",
    "percentageofdistinction(filename)\n"
   ]
  },
  {
   "cell_type": "code",
   "execution_count": 9,
   "metadata": {},
   "outputs": [
    {
     "name": "stdout",
     "output_type": "stream",
     "text": [
      "10\n"
     ]
    }
   ],
   "source": [
    "def highestmarksfrequency(filename):\n",
    "    k=0\n",
    "    with open(filename,'r') as f:\n",
    "        filedata=f.read()\n",
    "        filedata=filedata.split('\\n')\n",
    "        #print(max(filedata))\n",
    "        for high in filedata:\n",
    "            #print(high)\n",
    "            if high=='99':\n",
    "                k=k+1\n",
    "        print(k)\n",
    "highestmarksfrequency(filename)\n",
    "            \n"
   ]
  },
  {
   "cell_type": "code",
   "execution_count": 10,
   "metadata": {},
   "outputs": [
    {
     "name": "stdout",
     "output_type": "stream",
     "text": [
      "13\n"
     ]
    }
   ],
   "source": [
    "def lowestmarksfrequency(filename):\n",
    "    k=0\n",
    "    with open(filename,'r') as f:\n",
    "        filedata=f.read()\n",
    "        filedata=filedata.split('\\n')\n",
    "        #print(filedata)\n",
    "        for high in filedata:\n",
    "            #print(high)\n",
    "            if high==min(filedata):\n",
    "                k=k+1\n",
    "        print(k)\n",
    "lowestmarksfrequency(filename)"
   ]
  },
  {
   "cell_type": "code",
   "execution_count": 11,
   "metadata": {},
   "outputs": [
    {
     "name": "stdout",
     "output_type": "stream",
     "text": [
      "10 times occured\n"
     ]
    }
   ],
   "source": [
    "def find(filename,word):\n",
    "    n=0\n",
    "    with open(filename,'r') as f:\n",
    "        filedata=f.read()\n",
    "        filedata=filedata.split('\\n')\n",
    "        #print(filedata)\n",
    "        for high in filedata:\n",
    "            #print(high)\n",
    "            if high==word:\n",
    "\n",
    "                n=n+1\n",
    "        #print(word ,\"is existing\")\n",
    "        print(n,\"times occured\")\n",
    "find(filename,'99')  \n",
    "                \n",
    "            "
   ]
  },
  {
   "cell_type": "code",
   "execution_count": 13,
   "metadata": {},
   "outputs": [],
   "source": [
    "def replace(filename,word):\n",
    "    #modify=[]\n",
    "    with open(filename,'r') as f:\n",
    "        filedata=f.read()\n",
    "        #filedata=filedata.split('\\n')\n",
    "        fh=filedata.replace(word,\"kavithaRani\")\n",
    "    with open(filename,'w') as f:\n",
    "        f.write(fh)\n",
    "        #print(s)\n",
    "replace(filename,\"kavi\")   "
   ]
  },
  {
   "cell_type": "code",
   "execution_count": null,
   "metadata": {},
   "outputs": [],
   "source": []
  },
  {
   "cell_type": "code",
   "execution_count": null,
   "metadata": {},
   "outputs": [],
   "source": []
  }
 ],
 "metadata": {
  "kernelspec": {
   "display_name": "Python 3",
   "language": "python",
   "name": "python3"
  },
  "language_info": {
   "codemirror_mode": {
    "name": "ipython",
    "version": 3
   },
   "file_extension": ".py",
   "mimetype": "text/x-python",
   "name": "python",
   "nbconvert_exporter": "python",
   "pygments_lexer": "ipython3",
   "version": "3.7.3"
  }
 },
 "nbformat": 4,
 "nbformat_minor": 2
}
