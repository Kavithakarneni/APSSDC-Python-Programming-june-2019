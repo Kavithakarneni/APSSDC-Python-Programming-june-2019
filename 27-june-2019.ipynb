{
 "cells": [
  {
   "cell_type": "markdown",
   "metadata": {},
   "source": [
    "### Day Objectives\n",
    " - combinations\n",
    " - set - data Structures\n",
    "     - set Operartions\n",
    "     - use cases\n",
    " - Functional Programming\n",
    "     - list comprehences\n",
    "     - Iterators\n",
    "     - Generators\n",
    "     - Maps\n",
    "     - Lambda\n",
    "     - Builtin Functions\n",
    "     - use cases\n",
    "     "
   ]
  },
  {
   "cell_type": "code",
   "execution_count": 1,
   "metadata": {},
   "outputs": [
    {
     "name": "stdout",
     "output_type": "stream",
     "text": [
      "1 2 3\n",
      "1 2 4\n",
      "1 2 5\n",
      "1 3 4\n",
      "1 3 5\n",
      "1 4 5\n",
      "2 3 4\n",
      "2 3 5\n",
      "2 4 5\n",
      "3 4 5\n"
     ]
    }
   ],
   "source": [
    "#Function to print all combinations of pairs of integers in a unique list\n",
    "#[1,2,3]-->(1,2),(1,3),(2,3)-->3C2 ->3!/((3-2)!*2)\n",
    "#[1,2,3,4]-->(1,2),(1,3),(1,4),(2,3)(2,4),(3,4)-->\n",
    "def combinations(li):\n",
    "    for i in range(len(li)-2):\n",
    "        for j in range (i+1,len(li)-1):\n",
    "            for k in range(j+1,len(li)):\n",
    "                print(li[i],li[j],li[k])\n",
    "    return\n",
    "li=[1,2,3,4,5]\n",
    "combinations(li)\n"
   ]
  },
  {
   "cell_type": "code",
   "execution_count": 6,
   "metadata": {},
   "outputs": [
    {
     "name": "stdout",
     "output_type": "stream",
     "text": [
      "1 2\n",
      "1 3\n",
      "1 4\n",
      "2 3\n",
      "2 4\n"
     ]
    }
   ],
   "source": [
    "def combinations(li):\n",
    "    for i in range(len(li)-2):\n",
    "        for j in range (i+1,len(li)):\n",
    "            print(li[i],li[j])\n",
    "    return\n",
    "li=[1,2,3,4]\n",
    "combinations(li)\n"
   ]
  },
  {
   "cell_type": "code",
   "execution_count": 2,
   "metadata": {},
   "outputs": [
    {
     "data": {
      "text/plain": [
       "[[1, 2, 3, 6, 9, 12], [1, 2, 3, 6, 9, 12, 5, 8, 11, 4, 7, 10]]"
      ]
     },
     "execution_count": 2,
     "metadata": {},
     "output_type": "execute_result"
    }
   ],
   "source": [
    "#def medium(li):\n",
    "    #while(True):\n",
    "        #li3=[]\n",
    "        #li3 = DifferencePairs(li)\n",
    "        #if li3[0]==li3[1]:\n",
    "            #break\n",
    "        #if len(li3[0])>=k:\n",
    "            #return sorted(li3[0],reverse=True)\n",
    "    #return -1\n",
    "\n",
    "def DifferencePairs(li):\n",
    "    cli=li.copy()\n",
    "    newelements = []\n",
    "    for i in range(len(li)-1):\n",
    "        for j in range(i+1,len(li)):\n",
    "            d=abs(li[i]-li[j])\n",
    "            if d not in li and d not in newelements:\n",
    "                newelements.append(d)\n",
    "    li.extend(newelements)\n",
    "    return [cli,li]\n",
    "li=[1,2,3,6,9,12]\n",
    "#medium(li)  \n",
    "DifferencePairs(li)\n"
   ]
  },
  {
   "cell_type": "code",
   "execution_count": 61,
   "metadata": {},
   "outputs": [
    {
     "ename": "ValueError",
     "evalue": "invalid literal for int() with base 10: ''",
     "output_type": "error",
     "traceback": [
      "\u001b[1;31m---------------------------------------------------------------------------\u001b[0m",
      "\u001b[1;31mValueError\u001b[0m                                Traceback (most recent call last)",
      "\u001b[1;32m<ipython-input-61-443bcc5c6a52>\u001b[0m in \u001b[0;36m<module>\u001b[1;34m\u001b[0m\n\u001b[0;32m     21\u001b[0m         \u001b[0mf\u001b[0m\u001b[1;33m.\u001b[0m\u001b[0mreadlines\u001b[0m\u001b[1;33m(\u001b[0m\u001b[1;33m)\u001b[0m\u001b[1;33m\u001b[0m\u001b[1;33m\u001b[0m\u001b[0m\n\u001b[0;32m     22\u001b[0m         \u001b[1;31m#li=f.readlines().split()\u001b[0m\u001b[1;33m\u001b[0m\u001b[1;33m\u001b[0m\u001b[1;33m\u001b[0m\u001b[0m\n\u001b[1;32m---> 23\u001b[1;33m         \u001b[0mk\u001b[0m\u001b[1;33m=\u001b[0m\u001b[0mint\u001b[0m\u001b[1;33m(\u001b[0m\u001b[0mf\u001b[0m\u001b[1;33m.\u001b[0m\u001b[0mreadline\u001b[0m\u001b[1;33m(\u001b[0m\u001b[1;33m)\u001b[0m\u001b[1;33m)\u001b[0m\u001b[1;33m\u001b[0m\u001b[1;33m\u001b[0m\u001b[0m\n\u001b[0m\u001b[0;32m     24\u001b[0m     \u001b[1;31m#DifferencePairs(li,k)\u001b[0m\u001b[1;33m\u001b[0m\u001b[1;33m\u001b[0m\u001b[1;33m\u001b[0m\u001b[0m\n",
      "\u001b[1;31mValueError\u001b[0m: invalid literal for int() with base 10: ''"
     ]
    }
   ],
   "source": [
    "def DifferencePairs(li,k):\n",
    "   #cli=li\n",
    "   #newelements=[]\n",
    "    for i in li:\n",
    "        for j in range(0,len(li)):\n",
    "            d=abs(i-li[j])\n",
    "            if d!=0:\n",
    "                if d not in li:\n",
    "                    li.append(d)\n",
    "                    li=sorted(li)\n",
    "    print(li)\n",
    "    print(li[-k])\n",
    "#li=[1,4,8]    \n",
    "#medium(li)\n",
    "#k=int(input())\n",
    "\n",
    "\n",
    "with open('DataFiles/input1.txt','r') as f:\n",
    "    t=int(f.readline())\n",
    "    for i in range(t):\n",
    "        f.readlines()\n",
    "        #li=f.readlines().split()\n",
    "        k=int(f.readline())\n",
    "    #DifferencePairs(li,k)"
   ]
  },
  {
   "cell_type": "code",
   "execution_count": 51,
   "metadata": {},
   "outputs": [
    {
     "data": {
      "text/plain": [
       "[-3, -2, -1, 1, 2, 3, 4, 5, 6]"
      ]
     },
     "execution_count": 51,
     "metadata": {},
     "output_type": "execute_result"
    }
   ],
   "source": [
    "a={2,3,4,5,5,6,6,1,-1}\n",
    "a.add(7)#adding a single element to a set\n",
    "#for i in a:\n",
    "    #print(i,end=' ')#accessing each element\n",
    "b={2,4,5,10,12,13}\n",
    "li={-2,-3}\n",
    "a.update(li)#adding multiple elements to the list\n",
    "a.discard(7)\n",
    "c=a.difference()\n",
    "c.union(b)#c U b = b U c\n",
    "sorted(c)"
   ]
  },
  {
   "cell_type": "code",
   "execution_count": 42,
   "metadata": {},
   "outputs": [
    {
     "data": {
      "text/plain": [
       "{-3, -2, -1, 1, 2, 3, 4, 5, 6}"
      ]
     },
     "execution_count": 42,
     "metadata": {},
     "output_type": "execute_result"
    }
   ],
   "source": [
    "c.intersection(a)"
   ]
  },
  {
   "cell_type": "code",
   "execution_count": 44,
   "metadata": {},
   "outputs": [
    {
     "data": {
      "text/plain": [
       "False"
      ]
     },
     "execution_count": 44,
     "metadata": {},
     "output_type": "execute_result"
    }
   ],
   "source": [
    "a.isdisjoint(c)"
   ]
  },
  {
   "cell_type": "code",
   "execution_count": 49,
   "metadata": {},
   "outputs": [
    {
     "data": {
      "text/plain": [
       "{-3, -2, -1, 1, 2, 3, 4, 5, 6}"
      ]
     },
     "execution_count": 49,
     "metadata": {},
     "output_type": "execute_result"
    }
   ],
   "source": [
    "a-b  #all elements of 'a' which are not in 'b'"
   ]
  },
  {
   "cell_type": "code",
   "execution_count": 55,
   "metadata": {},
   "outputs": [
    {
     "data": {
      "text/plain": [
       "set()"
      ]
     },
     "execution_count": 55,
     "metadata": {},
     "output_type": "execute_result"
    }
   ],
   "source": [
    "a^b #Elements which either in a or in b\n",
    "d=set()\n",
    "d"
   ]
  },
  {
   "cell_type": "code",
   "execution_count": 56,
   "metadata": {},
   "outputs": [
    {
     "data": {
      "text/plain": [
       "{1, 2, 5, 6, 7, 8, 10}"
      ]
     },
     "execution_count": 56,
     "metadata": {},
     "output_type": "execute_result"
    }
   ],
   "source": [
    "li=[1,2,5,6,7,8,10]\n",
    "u=set(li)\n",
    "u"
   ]
  },
  {
   "cell_type": "code",
   "execution_count": null,
   "metadata": {},
   "outputs": [],
   "source": [
    "proedural : c\n",
    "    \n",
    "Object Oriented : java,python\n",
    "    \n",
    "Scripting : PHP,Python,Javascript,shecl\n",
    "    \n",
    "Functional : python,haskell,erland,scala\n",
    "\n",
    "logic : prolong ,lisp\n",
    "    "
   ]
  },
  {
   "cell_type": "markdown",
   "metadata": {},
   "source": [
    "### list comprehension"
   ]
  },
  {
   "cell_type": "code",
   "execution_count": 63,
   "metadata": {},
   "outputs": [
    {
     "data": {
      "text/plain": [
       "[1, 2, 3, 4, 5, 6, 7, 8, 9, 10]"
      ]
     },
     "execution_count": 63,
     "metadata": {},
     "output_type": "execute_result"
    }
   ],
   "source": [
    "#N natural numbers in a list\n",
    "n = 10\n",
    "li=[]\n",
    "for i in range(1,n+1):\n",
    "    li.append(i)\n",
    "li"
   ]
  },
  {
   "cell_type": "code",
   "execution_count": 64,
   "metadata": {},
   "outputs": [
    {
     "data": {
      "text/plain": [
       "[1, 2, 3, 4, 5, 6, 7, 8, 9, 10]"
      ]
     },
     "execution_count": 64,
     "metadata": {},
     "output_type": "execute_result"
    }
   ],
   "source": [
    "li=[i for i in range(1,11)]\n",
    "li"
   ]
  },
  {
   "cell_type": "code",
   "execution_count": 65,
   "metadata": {},
   "outputs": [
    {
     "data": {
      "text/plain": [
       "[1, 8, 27, 64, 125, 216, 343, 512, 729, 1000]"
      ]
     },
     "execution_count": 65,
     "metadata": {},
     "output_type": "execute_result"
    }
   ],
   "source": [
    "# Apply list comprehension to store the cubes of n natural numbers\n",
    "li=[i**3 for i in range(1,11)]\n",
    "li"
   ]
  },
  {
   "cell_type": "code",
   "execution_count": 69,
   "metadata": {},
   "outputs": [
    {
     "data": {
      "text/plain": [
       "[1, 2, 6, 24, 120, 720, 5040, 40320, 362880, 3628800]"
      ]
     },
     "execution_count": 69,
     "metadata": {},
     "output_type": "execute_result"
    }
   ],
   "source": [
    "#Function to calculate the factorial\n",
    "def factorial(n):\n",
    "    if n==0 or n==1:\n",
    "        return 1\n",
    "    return n*factorial(n-1)\n",
    "\n",
    "#Apply List comphrehension to calculate factorial of n natural numbers\n",
    "#factorial of n natural numbers\n",
    "n=10\n",
    "factorialList=[factorial(i) for i in range (1,n+1)]\n",
    "factorialList"
   ]
  },
  {
   "cell_type": "code",
   "execution_count": 4,
   "metadata": {},
   "outputs": [
    {
     "data": {
      "text/plain": [
       "[1, 3, 6, 10, 15]"
      ]
     },
     "execution_count": 4,
     "metadata": {},
     "output_type": "execute_result"
    }
   ],
   "source": [
    "#calculate or store cumulative sum of numbers till n in a list\n",
    "n=5#[1,3,6]\n",
    "#n=5,[1,3,6,10,15]\n",
    "#Cumlative Sum\n",
    "def cumulativesum(n):\n",
    "    sum=0\n",
    "    for i in range(1,n+1):\n",
    "        sum=sum+i\n",
    "    return sum\n",
    "cumulativeSum=[cumulativesum(i) for i in range(1,n+1)]\n",
    "cumulativeSum\n",
    "#cumulativesum(n)"
   ]
  },
  {
   "cell_type": "code",
   "execution_count": 5,
   "metadata": {},
   "outputs": [
    {
     "data": {
      "text/plain": [
       "[1, 3, 6, 10, 15]"
      ]
     },
     "execution_count": 5,
     "metadata": {},
     "output_type": "execute_result"
    }
   ],
   "source": [
    "cumulatives=[sum(range(1,i+1))for i in range(1,n+1)]\n",
    "cumulatives"
   ]
  },
  {
   "cell_type": "code",
   "execution_count": 10,
   "metadata": {},
   "outputs": [
    {
     "data": {
      "text/plain": [
       "[1972, 1976, 1980, 1984, 1988, 1992, 1996, 2000, 2004, 2008, 2012, 2016]"
      ]
     },
     "execution_count": 10,
     "metadata": {},
     "output_type": "execute_result"
    }
   ],
   "source": [
    "#list comprehension to store \n",
    "#only leap year in a given time period\n",
    "st=1970\n",
    "et=2019\n",
    "#leapYear = [1972,1976,1980,..2016]\n",
    "#def isleapyear(n):\n",
    "    #if n%400==0 or (n%100!=0 and n%4==0):\n",
    "        #return n\n",
    "#isleapyear(2018)\n",
    "leapyears = [i for i in range(st,et+1) \n",
    "             if i%400==0 or(i%100!=0 and i%4==0)]\n",
    "leapyears"
   ]
  },
  {
   "cell_type": "code",
   "execution_count": 16,
   "metadata": {},
   "outputs": [],
   "source": [
    "def isleapyear(n):\n",
    "    if n%400==0 or (n%100!=0 and n%4==0):\n",
    "        return n\n",
    "leapyears = [isleapyear(i) for i in range(st,et+1)]\n",
    "#leapyears"
   ]
  },
  {
   "cell_type": "code",
   "execution_count": 33,
   "metadata": {},
   "outputs": [
    {
     "data": {
      "text/plain": [
       "[1, 2, 3, 4, 6]"
      ]
     },
     "execution_count": 33,
     "metadata": {},
     "output_type": "execute_result"
    }
   ],
   "source": [
    "li=[1,2,3,2,1,4,4,6,6]\n",
    "unique=[]\n",
    "[unique.append(i) for i in li if i not in unique]\n",
    "unique"
   ]
  },
  {
   "cell_type": "markdown",
   "metadata": {},
   "source": [
    "### iterators\n",
    "Iterable - Strings,Lists,Tuples,Dictionaries\n",
    "\n",
    "convert Iterable to Iterator -> iter()\n",
    "\n",
    "For Loop:\n",
    "\n",
    "Iterator:"
   ]
  },
  {
   "cell_type": "code",
   "execution_count": 48,
   "metadata": {},
   "outputs": [
    {
     "name": "stdout",
     "output_type": "stream",
     "text": [
      "1:\n",
      "k\n",
      "\n",
      "1:\n",
      "a\n"
     ]
    }
   ],
   "source": [
    "it=iter('kavitha')\n",
    "print(\"1:\")\n",
    "print(next(it))\n",
    "print(\"\\n\")\n",
    "print(\"1:\")\n",
    "print(next(it))\n",
    "#next(it)"
   ]
  },
  {
   "cell_type": "code",
   "execution_count": 66,
   "metadata": {},
   "outputs": [
    {
     "data": {
      "text/plain": [
       "1024"
      ]
     },
     "execution_count": 66,
     "metadata": {},
     "output_type": "execute_result"
    }
   ],
   "source": [
    "#n=1\n",
    "def generator():\n",
    "    n=2\n",
    "    for i in range(1,5):\n",
    "        n**=3\n",
    "        yield n\n",
    "    \n",
    "\n",
    "a=generator()\n",
    "next(a)\n",
    "b=next(a)*2\n",
    "#next(a)\n",
    "#next(a)\n",
    "#next(a)\n",
    "b"
   ]
  },
  {
   "cell_type": "code",
   "execution_count": null,
   "metadata": {},
   "outputs": [],
   "source": []
  }
 ],
 "metadata": {
  "kernelspec": {
   "display_name": "Python 3",
   "language": "python",
   "name": "python3"
  },
  "language_info": {
   "codemirror_mode": {
    "name": "ipython",
    "version": 3
   },
   "file_extension": ".py",
   "mimetype": "text/x-python",
   "name": "python",
   "nbconvert_exporter": "python",
   "pygments_lexer": "ipython3",
   "version": "3.7.3"
  }
 },
 "nbformat": 4,
 "nbformat_minor": 2
}
