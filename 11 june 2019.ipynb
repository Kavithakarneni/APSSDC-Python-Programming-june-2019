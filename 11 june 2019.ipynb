{
 "cells": [
  {
   "cell_type": "code",
   "execution_count": null,
   "metadata": {},
   "outputs": [],
   "source": [
    "1.### Markdown Basics\n",
    "\n",
    "2. * ** Bold ** <br>\n",
    "3. * * italic *\n",
    "4. * *** ib ***\n",
    "5. * normal text *\n",
    " \n",
    "1. ordered list element 1\n",
    "2. ordered list element 2\n",
    "\n",
    "\n",
    "- [_] option 1\n",
    "- [_] option 2\n",
    "\n",
    "\n",
    " [jupyter1-Logo](jupyter1-logo.png)\n",
    "    \n",
    "![jupyter1-logo](jupyter1-logo.png)\n",
    "\n",
    "<img src=\"jupiter-logo.png\" style=\"float.left\"\n"
   ]
  },
  {
   "cell_type": "code",
   "execution_count": 20,
   "metadata": {},
   "outputs": [
    {
     "ename": "SyntaxError",
     "evalue": "invalid syntax (<ipython-input-20-52f58752fcc3>, line 1)",
     "output_type": "error",
     "traceback": [
      "\u001b[1;36m  File \u001b[1;32m\"<ipython-input-20-52f58752fcc3>\"\u001b[1;36m, line \u001b[1;32m1\u001b[0m\n\u001b[1;33m    <https://google.com>\u001b[0m\n\u001b[1;37m    ^\u001b[0m\n\u001b[1;31mSyntaxError\u001b[0m\u001b[1;31m:\u001b[0m invalid syntax\n"
     ]
    }
   ],
   "source": [
    "<https://google.com>"
   ]
  },
  {
   "cell_type": "code",
   "execution_count": null,
   "metadata": {},
   "outputs": [],
   "source": []
  }
 ],
 "metadata": {
  "kernelspec": {
   "display_name": "Python 3",
   "language": "python",
   "name": "python3"
  },
  "language_info": {
   "codemirror_mode": {
    "name": "ipython",
    "version": 3
   },
   "file_extension": ".py",
   "mimetype": "text/x-python",
   "name": "python",
   "nbconvert_exporter": "python",
   "pygments_lexer": "ipython3",
   "version": "3.7.3"
  }
 },
 "nbformat": 4,
 "nbformat_minor": 2
}
