{
 "cells": [
  {
   "cell_type": "code",
   "execution_count": 4,
   "metadata": {},
   "outputs": [
    {
     "name": "stdout",
     "output_type": "stream",
     "text": [
      "0 1 1 1 1 1 1 0 0 0 "
     ]
    }
   ],
   "source": [
    "#function to find the freqency of a digit in a string\n",
    "s=\"abc123bcd456\"\n",
    "for i in range(0,10):\n",
    "    print((s.count(str(i))),end=\" \")"
   ]
  },
  {
   "cell_type": "code",
   "execution_count": 20,
   "metadata": {},
   "outputs": [],
   "source": [
    "def digitFreqency(s):\n",
    "    d=[]\n",
    "    count=[]\n",
    "    count=0\n",
    "    for i in s:\n",
    "        if i.isdigit():\n",
    "            #d.append(i)\n",
    "            for j in range(0,10):\n",
    "                if j in i:\n",
    "                    count=+1\n",
    "                else:\n",
    "                    count=0\n",
    "        print(count)\n",
    "s=\"kavith12345\"\n",
    "#digitFreqency(s)"
   ]
  },
  {
   "cell_type": "code",
   "execution_count": 22,
   "metadata": {},
   "outputs": [
    {
     "data": {
      "text/plain": [
       "['2']"
      ]
     },
     "execution_count": 22,
     "metadata": {},
     "output_type": "execute_result"
    }
   ],
   "source": [
    "def uniquedata(allnumbers):\n",
    "    unique = []\n",
    "    for n in allnumbers:\n",
    "        if n not in unique:\n",
    "            unique.append(n)\n",
    "        return unique\n",
    "def digitFrequency1(s):\n",
    "    allnumbers = []\n",
    "    for i in s:\n",
    "        allnumbers.append(i)\n",
    "    unique=uniquedata(allnumber)\n",
    "    for i in range(0,10):\n",
    "        if str(i) not in unique:\n",
    "            print(0, end=' ')\n",
    "        else:\n",
    "            count = allnumbers.count(str(i))\n",
    "            print(count,end=' ')\n",
    "uniquedata(\"213abc456jdn\")"
   ]
  },
  {
   "cell_type": "code",
   "execution_count": 23,
   "metadata": {},
   "outputs": [
    {
     "data": {
      "text/plain": [
       "'<built-in function dir>'"
      ]
     },
     "execution_count": 23,
     "metadata": {},
     "output_type": "execute_result"
    }
   ],
   "source": [
    "str(dir)"
   ]
  },
  {
   "cell_type": "code",
   "execution_count": null,
   "metadata": {},
   "outputs": [
    {
     "name": "stdout",
     "output_type": "stream",
     "text": [
      "2\n",
      "9 6\n",
      "10\n",
      "1 1\n",
      "150\n"
     ]
    }
   ],
   "source": [
    "def costofballons(T):\n",
    "    cost=0\n",
    "    for t in range(1,T):\n",
    "        #print(t)\n",
    "        if t%2!=0:\n",
    "            for j in range(0,n):\n",
    "                if q1==1 and q2==1:\n",
    "                    cost=cost+G+P\n",
    "                    #print(cost)\n",
    "                elif q1==1 and q2==0:\n",
    "                    cost=cost+G\n",
    "                elif q2==1 and q1==0:\n",
    "                    cost=cost+P\n",
    "                else:\n",
    "                    cost=cost+0\n",
    "            \n",
    "        else:\n",
    "            for j in range(0,n):\n",
    "                if q1==1 and q2==1:\n",
    "                    cost=cost+G+P\n",
    "                elif q1==1 and q2==0:\n",
    "                    cost=cost+P\n",
    "                elif q2==1 and q1==0:\n",
    "                    cost=cost+G\n",
    "                else:\n",
    "                    cost=cost+0\n",
    "                \n",
    "    print(cost)\n",
    "\n",
    "            \n",
    "    \n",
    "T=int(input())\n",
    "for i in range(0,T):\n",
    "    c=input().split()\n",
    "    G=int(c[0])\n",
    "    P=int(c[1])\n",
    "    n=int(input())\n",
    "    for j in range(0,n):\n",
    "        nb=input().split()\n",
    "        q1=int(nb[0])\n",
    "        q2=int(nb[1])\n",
    "        costofballons(T)"
   ]
  },
  {
   "cell_type": "code",
   "execution_count": 56,
   "metadata": {},
   "outputs": [
    {
     "data": {
      "text/plain": [
       "'k,a,v,i,t,h,a'"
      ]
     },
     "execution_count": 56,
     "metadata": {},
     "output_type": "execute_result"
    }
   ],
   "source": [
    "1 1\n",
    "1 1\n",
    "0 1\n",
    "0 0\n",
    "0 1\n",
    "0 0\n",
    "0 1\n",
    "0 1\n",
    "1 1\n",
    "0 0\n",
    "\n",
    "s='kavithaaoa'\n",
    "n=\"kiran\"\n",
    "\",\".join(\"kavitha\")\n"
   ]
  },
  {
   "cell_type": "code",
   "execution_count": null,
   "metadata": {},
   "outputs": [],
   "source": [
    "#dir(list)"
   ]
  },
  {
   "cell_type": "markdown",
   "metadata": {},
   "source": [
    "#### Practice test problems"
   ]
  },
  {
   "cell_type": "code",
   "execution_count": null,
   "metadata": {},
   "outputs": [],
   "source": [
    "#function to check if two strings or anagrams\n",
    "#abc cba --> True\n",
    "#aabbcc ccbbaaa -->false\n",
    "\n",
    "def AreAnagrams(s1,s2):\n",
    "    if len(s1)!=len(s2):\n",
    "        return False\n",
    "    if sorted(s1)==sorted(s2):\n",
    "        return True\n",
    "    return False\n",
    "def charDeletionAnagrams(s1,s2):\n",
    "    uncommon=[]\n",
    "    for i in s1:\n",
    "        if i not in s2:\n",
    "            uncommon.append(i)\n",
    "    for i in s2:\n",
    "        if i not in s1:\n",
    "            uncommon.append(i)\n",
    "    counnt = len(uncommon)\n",
    "    #print(counnt)\n",
    "    freqs1 = {}\n",
    "    freqs2 = {}\n",
    "    unique1 =[]\n",
    "    unique2 =[]\n",
    "    for i in s1:\n",
    "        if i not in uncommon and i not in unique1:\n",
    "            freqs1[i]=s1.count(i)\n",
    "            unique1.append(i)\n",
    "    #unique \n",
    "    for i in s2:\n",
    "        if i not in uncommon and i not in unique2:\n",
    "            freqs2[i]=s2.count(i)\n",
    "    for key in freqs1.keys():\n",
    "        counnt+=abs((freqs1[key] - freqs2[key]))\n",
    "    print(counnt)\n",
    "t=int(input())\n",
    "for j in range(0,t):\n",
    "    s1=input()\n",
    "    s2=input()\n",
    "    #charDeletionAnagrams(s1,s2)\n",
    "\n",
    "            \n",
    "        "
   ]
  },
  {
   "cell_type": "code",
   "execution_count": 8,
   "metadata": {},
   "outputs": [
    {
     "data": {
      "text/plain": [
       "-1"
      ]
     },
     "execution_count": 8,
     "metadata": {},
     "output_type": "execute_result"
    }
   ],
   "source": [
    "def kthlargest(s,k):\n",
    "    #li = []\n",
    "    freq = {}\n",
    "    for i in s:\n",
    "        if i not in freq.keys():\n",
    "            freq[i] = s.count(i)\n",
    "    values=sorted(freq.values(),reverse=True)\n",
    "    uniquevalues=list(set(values))\n",
    "    uniquevalues=sorted(uniquevalues,reverse=True)\n",
    "    if k<=len(uniquevalues):\n",
    "        kvalues=uniquevalues[k-1]\n",
    "    else:\n",
    "        return -1\n",
    "     #get all elements with kth largest frequency   \n",
    "    #kvalues = uniquevalues[k-1]\n",
    "    li=[]\n",
    "    for item in freq.items():\n",
    "        if item[1] == kvalues:\n",
    "            li.append(item[0])\n",
    "    return min(li)\n",
    "kthlargest('aabcd',4)"
   ]
  },
  {
   "cell_type": "code",
   "execution_count": null,
   "metadata": {},
   "outputs": [],
   "source": []
  }
 ],
 "metadata": {
  "kernelspec": {
   "display_name": "Python 3",
   "language": "python",
   "name": "python3"
  },
  "language_info": {
   "codemirror_mode": {
    "name": "ipython",
    "version": 3
   },
   "file_extension": ".py",
   "mimetype": "text/x-python",
   "name": "python",
   "nbconvert_exporter": "python",
   "pygments_lexer": "ipython3",
   "version": "3.7.3"
  }
 },
 "nbformat": 4,
 "nbformat_minor": 2
}
