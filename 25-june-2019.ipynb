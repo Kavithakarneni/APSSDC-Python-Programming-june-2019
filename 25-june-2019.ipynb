{
 "cells": [
  {
   "cell_type": "code",
   "execution_count": 4,
   "metadata": {},
   "outputs": [
    {
     "name": "stdout",
     "output_type": "stream",
     "text": [
      "0 1 1 1 1 1 1 0 0 0 "
     ]
    }
   ],
   "source": [
    "#function to find the freqency of a digit in a string\n",
    "s=\"abc123bcd456\"\n",
    "for i in range(0,10):\n",
    "    print((s.count(str(i))),end=\" \")"
   ]
  },
  {
   "cell_type": "code",
   "execution_count": 20,
   "metadata": {},
   "outputs": [],
   "source": [
    "def digitFreqency(s):\n",
    "    d=[]\n",
    "    count=[]\n",
    "    count=0\n",
    "    for i in s:\n",
    "        if i.isdigit():\n",
    "            #d.append(i)\n",
    "            for j in range(0,10):\n",
    "                if j in i:\n",
    "                    count=+1\n",
    "                else:\n",
    "                    count=0\n",
    "        print(count)\n",
    "s=\"kavith12345\"\n",
    "#digitFreqency(s)"
   ]
  },
  {
   "cell_type": "code",
   "execution_count": 22,
   "metadata": {},
   "outputs": [
    {
     "data": {
      "text/plain": [
       "['2']"
      ]
     },
     "execution_count": 22,
     "metadata": {},
     "output_type": "execute_result"
    }
   ],
   "source": [
    "def uniquedata(allnumbers):\n",
    "    unique = []\n",
    "    for n in allnumbers:\n",
    "        if n not in unique:\n",
    "            unique.append(n)\n",
    "        return unique\n",
    "def digitFrequency1(s):\n",
    "    allnumbers = []\n",
    "    for i in s:\n",
    "        allnumbers.append(i)\n",
    "    unique=uniquedata(allnumber)\n",
    "    for i in range(0,10):\n",
    "        if str(i) not in unique:\n",
    "            print(0, end=' ')\n",
    "        else:\n",
    "            count = allnumbers.count(str(i))\n",
    "            print(count,end=' ')\n",
    "uniquedata(\"213abc456jdn\")"
   ]
  },
  {
   "cell_type": "code",
   "execution_count": 23,
   "metadata": {},
   "outputs": [
    {
     "data": {
      "text/plain": [
       "'<built-in function dir>'"
      ]
     },
     "execution_count": 23,
     "metadata": {},
     "output_type": "execute_result"
    }
   ],
   "source": [
    "str(dir)"
   ]
  },
  {
   "cell_type": "code",
   "execution_count": null,
   "metadata": {},
   "outputs": [],
   "source": [
    "def costofballons(n):\n",
    "    l1=[]\n",
    "    l2=[]\n",
    "    for j in range(0,n):\n",
    "        nb=list(map(int,input().split()))\n",
    "        #print(nb)\n",
    "        if nb[0]==1:\n",
    "            l1.append(nb[0])\n",
    "        if nb[1]==1:\n",
    "            l2.append(nb[1])\n",
    "            #print(l2)\n",
    "    if sum(l1)>sum(l2):\n",
    "        if G>P:\n",
    "            a=((sum(l1)*P)+(sum(l2)*G))\n",
    "        else:\n",
    "            a=((sum(l1)*G)+(sum(l2)*P))\n",
    "    \n",
    "    else:\n",
    "        if G>P:\n",
    "            a=((sum(l2)*P)+(sum(l1)*G))\n",
    "        else:\n",
    "            a=((sum(l2)*G)+(sum(l1)*P))\n",
    "    print(a)\n",
    "T=int(input())\n",
    "for i in range(0,T):\n",
    "    c=input().split()\n",
    "    G=int(c[0])\n",
    "    P=int(c[1])\n",
    "    n=int(input())\n",
    "    #costofballons(n)\n",
    "        "
   ]
  },
  {
   "cell_type": "code",
   "execution_count": null,
   "metadata": {},
   "outputs": [],
   "source": [
    "3\n",
    "sales saurabh&\n",
    "problemsolving ravi$\n",
    "Developer vi#vek@"
   ]
  },
  {
   "cell_type": "code",
   "execution_count": null,
   "metadata": {},
   "outputs": [],
   "source": [
    "T=int(input())\n",
    "a=[]\n",
    "for i in range(T):\n",
    "    s=input().split()\n",
    "    print(s[0])\n",
    "    a.clear()\n",
    "    for i in s[1]:\n",
    "        if i.isalpha():\n",
    "            a.append(i)\n",
    "            b=''.join(a)\n",
    "            #a.clear()\n",
    "    print('name',':',b)"
   ]
  },
  {
   "cell_type": "code",
   "execution_count": null,
   "metadata": {},
   "outputs": [],
   "source": []
  },
  {
   "cell_type": "code",
   "execution_count": 1,
   "metadata": {},
   "outputs": [
    {
     "name": "stdout",
     "output_type": "stream",
     "text": [
      "[1]\n"
     ]
    }
   ],
   "source": [
    "q1=1\n",
    "l1=[]\n",
    "if q1==1:\n",
    "        l1.append(q1)\n",
    "print(l1)"
   ]
  },
  {
   "cell_type": "markdown",
   "metadata": {},
   "source": [
    "#### Practice test problems"
   ]
  },
  {
   "cell_type": "code",
   "execution_count": null,
   "metadata": {},
   "outputs": [],
   "source": [
    "#function to check if two strings or anagrams\n",
    "#abc cba --> True\n",
    "#aabbcc ccbbaaa -->false\n",
    "\n",
    "def AreAnagrams(s1,s2):\n",
    "    if len(s1)!=len(s2):\n",
    "        return False\n",
    "    if sorted(s1)==sorted(s2):\n",
    "        return True\n",
    "    return False\n",
    "def charDeletionAnagrams(s1,s2):\n",
    "    uncommon=[]\n",
    "    for i in s1:\n",
    "        if i not in s2:\n",
    "            uncommon.append(i)\n",
    "    for i in s2:\n",
    "        if i not in s1:\n",
    "            uncommon.append(i)\n",
    "    counnt = len(uncommon)\n",
    "    #print(counnt)\n",
    "    freqs1 = {}\n",
    "    freqs2 = {}\n",
    "    unique1 =[]\n",
    "    unique2 =[]\n",
    "    for i in s1:\n",
    "        if i not in uncommon and i not in unique1:\n",
    "            freqs1[i]=s1.count(i)\n",
    "            unique1.append(i)\n",
    "    #unique \n",
    "    for i in s2:\n",
    "        if i not in uncommon and i not in unique2:\n",
    "            freqs2[i]=s2.count(i)\n",
    "    for key in freqs1.keys():\n",
    "        counnt+=abs((freqs1[key] - freqs2[key]))\n",
    "    print(counnt)\n",
    "t=int(input())\n",
    "for j in range(0,t):\n",
    "    s1=input()\n",
    "    s2=input()\n",
    "    #charDeletionAnagrams(s1,s2)\n",
    "\n",
    "            \n",
    "        "
   ]
  },
  {
   "cell_type": "code",
   "execution_count": 8,
   "metadata": {},
   "outputs": [
    {
     "data": {
      "text/plain": [
       "-1"
      ]
     },
     "execution_count": 8,
     "metadata": {},
     "output_type": "execute_result"
    }
   ],
   "source": [
    "def kthlargest(s,k):\n",
    "    #li = []\n",
    "    freq = {}\n",
    "    for i in s:\n",
    "        if i not in freq.keys():\n",
    "            freq[i] = s.count(i)\n",
    "    values=sorted(freq.values(),reverse=True)\n",
    "    uniquevalues=list(set(values))\n",
    "    uniquevalues=sorted(uniquevalues,reverse=True)\n",
    "    if k<=len(uniquevalues):\n",
    "        kvalues=uniquevalues[k-1]\n",
    "    else:\n",
    "        return -1\n",
    "     #get all elements with kth largest frequency   \n",
    "    #kvalues = uniquevalues[k-1]\n",
    "    li=[]\n",
    "    for item in freq.items():\n",
    "        if item[1] == kvalues:\n",
    "            li.append(item[0])\n",
    "    return min(li)\n",
    "kthlargest('aabcd',4)"
   ]
  },
  {
   "cell_type": "code",
   "execution_count": null,
   "metadata": {},
   "outputs": [],
   "source": [
    "3 6 9 15\n",
    "1 2 3 1 \n",
    "100 108 25 50\n"
   ]
  },
  {
   "cell_type": "code",
   "execution_count": 3,
   "metadata": {},
   "outputs": [
    {
     "name": "stdout",
     "output_type": "stream",
     "text": [
      "1\n",
      "1 3 6 8 10\n",
      "[1, 3, 6, 8, 10]\n"
     ]
    }
   ],
   "source": [
    "\n",
    "def DifferencePairs(li):\n",
    "    cli=li.copy()\n",
    "    newelements = []\n",
    "    for i in range(len(li)-1):\n",
    "        for j in range(i+1,len(li)):\n",
    "            d=abs(li[i]-li[j])\n",
    "            if d not in li and d not in newelements:\n",
    "                newelements.append(d)\n",
    "    li.extend(newelements)\n",
    "    return li\n",
    "\n",
    "        \n",
    "#li=[1,2,3,6,9,12]\n",
    "            \n",
    "T=int(input())\n",
    "for i in range(T):\n",
    "    li=list(map(int,input().split()))\n",
    "    print(li)\n",
    "    DifferencePairs(li)\n",
    "    "
   ]
  },
  {
   "cell_type": "code",
   "execution_count": null,
   "metadata": {},
   "outputs": [],
   "source": []
  },
  {
   "cell_type": "code",
   "execution_count": 4,
   "metadata": {},
   "outputs": [
    {
     "name": "stdout",
     "output_type": "stream",
     "text": [
      "1 2 3 4 5\n"
     ]
    }
   ],
   "source": []
  },
  {
   "cell_type": "code",
   "execution_count": null,
   "metadata": {},
   "outputs": [],
   "source": []
  }
 ],
 "metadata": {
  "kernelspec": {
   "display_name": "Python 3",
   "language": "python",
   "name": "python3"
  },
  "language_info": {
   "codemirror_mode": {
    "name": "ipython",
    "version": 3
   },
   "file_extension": ".py",
   "mimetype": "text/x-python",
   "name": "python",
   "nbconvert_exporter": "python",
   "pygments_lexer": "ipython3",
   "version": "3.7.3"
  }
 },
 "nbformat": 4,
 "nbformat_minor": 2
}
