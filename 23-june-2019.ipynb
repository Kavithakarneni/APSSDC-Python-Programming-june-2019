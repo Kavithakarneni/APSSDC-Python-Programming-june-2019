{
 "cells": [
  {
   "cell_type": "code",
   "execution_count": 25,
   "metadata": {},
   "outputs": [
    {
     "name": "stdout",
     "output_type": "stream",
     "text": [
      "[1]\n"
     ]
    }
   ],
   "source": [
    "a=[1,3,1,4,5,7,10]\n",
    "out=[]\n",
    "if a[1]-a[0]>=2:\n",
    "    out.append(a[0])\n",
    "    #print(out)\n",
    "    if a[2]-a[1]>=2:\n",
    "        out.append(a[1])\n",
    "    elif a[1]-a[4]>=2:\n",
    "        out.append(a[1])\n",
    "print(out)"
   ]
  },
  {
   "cell_type": "code",
   "execution_count": 24,
   "metadata": {},
   "outputs": [
    {
     "ename": "SyntaxError",
     "evalue": "invalid syntax (<ipython-input-24-da1df57e5763>, line 9)",
     "output_type": "error",
     "traceback": [
      "\u001b[1;36m  File \u001b[1;32m\"<ipython-input-24-da1df57e5763>\"\u001b[1;36m, line \u001b[1;32m9\u001b[0m\n\u001b[1;33m    if k[]-k[]>=2:\u001b[0m\n\u001b[1;37m         ^\u001b[0m\n\u001b[1;31mSyntaxError\u001b[0m\u001b[1;31m:\u001b[0m invalid syntax\n"
     ]
    }
   ],
   "source": [
    "#k=int(input())\n",
    "#Y=int(input())\n",
    "Aarray=input().split()\n",
    "#print(A)\n",
    "A=[]\n",
    "for i in range (0,len(Aarray)):\n",
    "    A.append(int(Aarray[i]))\n",
    "    if (A[i+1]-A[i])>=2:\n",
    "        count +=1'''\n",
    "print(A[i])\n",
    "    "
   ]
  },
  {
   "cell_type": "code",
   "execution_count": 13,
   "metadata": {},
   "outputs": [
    {
     "data": {
      "text/plain": [
       "[1, 2, 3]"
      ]
     },
     "execution_count": 13,
     "metadata": {},
     "output_type": "execute_result"
    }
   ],
   "source": [
    "#Function to get \n",
    "def uniqueData(li):\n",
    "    #Create an empty unique list\n",
    "    unique = []\n",
    "    #for every element in the main list,\n",
    "        #check if it exists in the unique List,\n",
    "            #if it does not exist,add it to unique list\n",
    "                #else if it already exist,move on to the\n",
    "    for element in li:\n",
    "        if element not in unique:\n",
    "            unique.append(element)\n",
    "    return unique\n",
    "li=[1,2,3,3,2,1]\n",
    "uniqueData(li)"
   ]
  },
  {
   "cell_type": "code",
   "execution_count": 32,
   "metadata": {},
   "outputs": [
    {
     "name": "stdout",
     "output_type": "stream",
     "text": [
      "69\n",
      "E\n",
      "112\n",
      "87\n",
      "W\n",
      "112\n",
      "87\n",
      "W\n",
      "103\n",
      "78\n",
      "N\n",
      "115\n",
      "90\n",
      "Z\n",
      "114\n",
      "89\n",
      "Y\n",
      "122\n",
      "97\n",
      "a\n",
      "115\n",
      "90\n",
      "Z\n",
      "93\n",
      "68\n",
      "D\n",
      "119\n",
      "94\n",
      "^\n",
      "102\n",
      "77\n",
      "M\n",
      "105\n",
      "80\n",
      "P\n",
      "69\n",
      "E\n",
      "112\n",
      "87\n",
      "W\n",
      "105\n",
      "80\n",
      "P\n",
      "118\n",
      "93\n",
      "]\n",
      "120\n",
      "95\n",
      "_\n"
     ]
    }
   ],
   "source": [
    "N=2\n",
    "s=\"All-convoYs-9-be:Alert1\"\n",
    "for i in s:\n",
    "    if i.isalpha():\n",
    "        #print(i)\n",
    "        i=ord(i)\n",
    "        i=i+4\n",
    "        print(i)\n",
    "        if i>90:\n",
    "            i=i-25\n",
    "            print(i)\n",
    "        print(chr(i))\n",
    "        #print(len(i))\n",
    "    #else:\n",
    "        #i.isdigit()\n",
    "        #n=int(i)+4\n",
    "        #print(n)\n",
    "        #Epp-gsrzsCw-3-fi:Epivx5\n",
    "        "
   ]
  },
  {
   "cell_type": "code",
   "execution_count": 29,
   "metadata": {},
   "outputs": [
    {
     "name": "stdout",
     "output_type": "stream",
     "text": [
      "C\n"
     ]
    }
   ],
   "source": [
    "a=ord('X')\n",
    "a=a+4-25\n",
    "print(chr(a))\n"
   ]
  },
  {
   "cell_type": "code",
   "execution_count": 21,
   "metadata": {},
   "outputs": [
    {
     "data": {
      "text/plain": [
       "'\\x16'"
      ]
     },
     "execution_count": 21,
     "metadata": {},
     "output_type": "execute_result"
    }
   ],
   "source": [
    "\n"
   ]
  },
  {
   "cell_type": "code",
   "execution_count": null,
   "metadata": {},
   "outputs": [],
   "source": []
  }
 ],
 "metadata": {
  "kernelspec": {
   "display_name": "Python 3",
   "language": "python",
   "name": "python3"
  },
  "language_info": {
   "codemirror_mode": {
    "name": "ipython",
    "version": 3
   },
   "file_extension": ".py",
   "mimetype": "text/x-python",
   "name": "python",
   "nbconvert_exporter": "python",
   "pygments_lexer": "ipython3",
   "version": "3.7.3"
  }
 },
 "nbformat": 4,
 "nbformat_minor": 2
}
