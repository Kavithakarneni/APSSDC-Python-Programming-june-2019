{
 "cells": [
  {
   "cell_type": "code",
   "execution_count": null,
   "metadata": {},
   "outputs": [],
   "source": [
    "#largest number in a list\n",
    "#2nd largest in a list\n",
    "#kth largest in alist\n",
    "\n"
   ]
  },
  {
   "cell_type": "markdown",
   "metadata": {},
   "source": [
    "#### function to find the second largest number in a list"
   ]
  },
  {
   "cell_type": "code",
   "execution_count": 19,
   "metadata": {},
   "outputs": [
    {
     "data": {
      "text/plain": [
       "1"
      ]
     },
     "execution_count": 19,
     "metadata": {},
     "output_type": "execute_result"
    }
   ],
   "source": [
    "def secondLargest(li):\n",
    "    unique = []\n",
    "    #convert the list into a unique lst\n",
    "    #O(n)\n",
    "    for n in li:\n",
    "        if n not in unique:\n",
    "            unique.append(n)\n",
    "    unique = sorted(unique,reverse=True)\n",
    "    if len(unique)>1:\n",
    "        return unique[1]\n",
    "    return -1\n",
    "secondLargest([1,2])\n"
   ]
  },
  {
   "cell_type": "code",
   "execution_count": 18,
   "metadata": {},
   "outputs": [
    {
     "data": {
      "text/plain": [
       "5"
      ]
     },
     "execution_count": 18,
     "metadata": {},
     "output_type": "execute_result"
    }
   ],
   "source": [
    "def fifthLeast(li):\n",
    "    unique = []\n",
    "    #convert the list into a unique lst\n",
    "    #O(n)\n",
    "    for n in li:\n",
    "        if n not in unique:\n",
    "            unique.append(n)\n",
    "    unique = sorted(unique)\n",
    "    if len(unique)>4:\n",
    "        return unique[4]\n",
    "    return -1\n",
    "fifthLeast([1,2,3,4,5,6,7,8])\n"
   ]
  },
  {
   "cell_type": "code",
   "execution_count": 10,
   "metadata": {},
   "outputs": [
    {
     "data": {
      "text/plain": [
       "-1"
      ]
     },
     "execution_count": 10,
     "metadata": {},
     "output_type": "execute_result"
    }
   ],
   "source": [
    "def kLargest(li,k):\n",
    "    unique = []\n",
    "    #convert the list into a unique lst\n",
    "    #O(n)\n",
    "    for n in li:\n",
    "        if n not in unique:\n",
    "            unique.append(n)\n",
    "    unique = sorted(unique,reverse=True)\n",
    "    if len(unique)>(k-1):\n",
    "        return unique[k-1]\n",
    "    return -1\n",
    "kLargest([1,2,3,4,5,6,7,8],9)"
   ]
  },
  {
   "cell_type": "code",
   "execution_count": 23,
   "metadata": {},
   "outputs": [
    {
     "data": {
      "text/plain": [
       "2"
      ]
     },
     "execution_count": 23,
     "metadata": {},
     "output_type": "execute_result"
    }
   ],
   "source": [
    "def ksmallest(li,k):\n",
    "    unique = []\n",
    "    #convert the list into a unique lst\n",
    "    #O(n)\n",
    "    for n in li:\n",
    "        if n not in unique:\n",
    "            unique.append(n)\n",
    "    unique = sorted(unique)\n",
    "    if len(unique)>(k-1):\n",
    "        return unique[k-1]\n",
    "    return -1\n",
    "ksmallest([1,2,2,3,4,5,6,7,8],2)"
   ]
  },
  {
   "cell_type": "code",
   "execution_count": 57,
   "metadata": {},
   "outputs": [
    {
     "data": {
      "text/plain": [
       "2"
      ]
     },
     "execution_count": 57,
     "metadata": {},
     "output_type": "execute_result"
    }
   ],
   "source": [
    "#function to identify the element with highest frequency\n",
    "#if many elements have the highest frequency,smallest\n",
    "#highestFrequency([1,2,3,9,7,3,4,2,1])\n",
    "def highestFrequency(li):\n",
    "    unique = {}\n",
    "    for n in li:\n",
    "        if n not in unique:\n",
    "            unique[n]=1\n",
    "        else:\n",
    "            unique[n]+=1\n",
    "    a=list(unique.values())\n",
    "    mf=max(a)\n",
    "    mfE=[]\n",
    "    for items in unique.items():\n",
    "        if items[1]==mf:\n",
    "            mfE.append(items[0])\n",
    "    return min(mfE)\n",
    "    \n",
    "\n",
    "            \n",
    "highestFrequency([1,1,1,1,2,2,2,2,2,3,3,3,3])    "
   ]
  },
  {
   "cell_type": "code",
   "execution_count": 80,
   "metadata": {},
   "outputs": [
    {
     "name": "stdout",
     "output_type": "stream",
     "text": [
      "{1: 1, 2: 3, 3: 3, 4: 1}\n",
      "[2, 3]\n"
     ]
    },
    {
     "data": {
      "text/plain": [
       "2"
      ]
     },
     "execution_count": 80,
     "metadata": {},
     "output_type": "execute_result"
    }
   ],
   "source": [
    "def highestFrequency(li):\n",
    "    unique = {}\n",
    "    for n in li:\n",
    "        if n not in unique:\n",
    "            unique[n]=1\n",
    "        else:\n",
    "            unique[n]+=1\n",
    "    print(unique)\n",
    "    mf=max(list(unique.values()))\n",
    "    mfE=[]\n",
    "    for item in unique.items():\n",
    "        if item[1]==mf:\n",
    "            mfE.append(item[0])\n",
    "    mfE=sorted(mfE)\n",
    "    print(mfE)\n",
    "    return mfE[0]\n",
    "    \n",
    "\n",
    "            \n",
    "highestFrequency([1,2,2,2,3,3,3,4])"
   ]
  },
  {
   "cell_type": "code",
   "execution_count": 31,
   "metadata": {},
   "outputs": [
    {
     "name": "stdout",
     "output_type": "stream",
     "text": [
      "(1, 2)\n",
      "(2, 2)\n",
      "(3, 2)\n",
      "(4, 1)\n",
      "(9, 1)\n",
      "(5, 1)\n"
     ]
    },
    {
     "data": {
      "text/plain": [
       "4"
      ]
     },
     "execution_count": 31,
     "metadata": {},
     "output_type": "execute_result"
    }
   ],
   "source": [
    "#function to identify second highest frequency element\n",
    "#if there are many such elements,return the smallest\n",
    "def sechighestFrequency(li):\n",
    "    un=[]\n",
    "    unique = {}\n",
    "    for n in li:\n",
    "        if n not in unique:\n",
    "            unique[n]=1\n",
    "        else:\n",
    "            unique[n]+=1\n",
    "    a=list(unique.values())\n",
    "    a=sorted(a,reverse=True)\n",
    "    #[1,2,3,2,1,4,4,9]-->3\n",
    "    for n in a:\n",
    "        if n not in un:\n",
    "            un.append(n)\n",
    "            #print(un)\n",
    "    smfE=[]\n",
    "    for item in unique.items():\n",
    "        print(item)\n",
    "        if item[1]==un[1]:\n",
    "            smfE.append(item[0])\n",
    "    smfE=sorted(smfE)\n",
    "    return smfE[0]\n",
    "        \n",
    "            \n",
    "            \n",
    "\n",
    "sechighestFrequency([1,2,3,3,2,1,4,9,5])"
   ]
  },
  {
   "cell_type": "code",
   "execution_count": 48,
   "metadata": {},
   "outputs": [
    {
     "data": {
      "text/plain": [
       "-1"
      ]
     },
     "execution_count": 48,
     "metadata": {},
     "output_type": "execute_result"
    }
   ],
   "source": [
    "def kthhighestFrequency(li,k):\n",
    "    un=[]\n",
    "    unique = {}\n",
    "    for n in li:\n",
    "        if n not in unique:\n",
    "            unique[n]=1\n",
    "        else:\n",
    "            unique[n]+=1\n",
    "    a=list(unique.values())\n",
    "    a=sorted(a,reverse=True)\n",
    "    if len(un)>(k-1):\n",
    "        return un[k-1]\n",
    "    return -1\n",
    "    #[1,2,3,2,1,4,4,9]-->3\n",
    "    for n in a:\n",
    "        if n not in un:\n",
    "            un.append(n)\n",
    "            print(un)\n",
    "    smfE=[]\n",
    "    for item in unique.items():\n",
    "        if item[1]==un[k-1]:\n",
    "            smfE.append(item[0])\n",
    "    smfE=sorted(smfE)\n",
    "    print(smfE)\n",
    "    return smfE[0]\n",
    "        \n",
    "            \n",
    "            \n",
    "\n",
    "kthhighestFrequency([1,2,3,3,2,1,4,4,4,9,5],4)"
   ]
  },
  {
   "cell_type": "code",
   "execution_count": 47,
   "metadata": {},
   "outputs": [
    {
     "name": "stdout",
     "output_type": "stream",
     "text": [
      "[1, 2, 3]\n"
     ]
    },
    {
     "data": {
      "text/plain": [
       "1"
      ]
     },
     "execution_count": 47,
     "metadata": {},
     "output_type": "execute_result"
    }
   ],
   "source": [
    "def kthlowestFrequency(li,k):\n",
    "    un=[]\n",
    "    unique = {}\n",
    "    for n in li:\n",
    "        if n not in unique:\n",
    "            unique[n]=1\n",
    "        else:\n",
    "            unique[n]+=1\n",
    "    a=list(unique.values())\n",
    "    a=sorted(a)\n",
    "    if len(un)>(k-1):\n",
    "        return un[k-1]\n",
    "    return -1\n",
    "    #[1,2,3,2,1,4,4,9]-->3\n",
    "    for n in a:\n",
    "        if n not in un:\n",
    "            un.append(n)\n",
    "            #print(un)\n",
    "    smfE=[]\n",
    "    for item in unique.items():\n",
    "        if item[1]==un[k-1]:\n",
    "            smfE.append(item[0])\n",
    "    smfE=sorted(smfE)\n",
    "    print(smfE)\n",
    "    return smfE[0]\n",
    "        \n",
    "            \n",
    "            \n",
    "\n",
    "kthlowestFrequency([1,2,3,3,2,1,4,4,4,9,5],2)"
   ]
  },
  {
   "cell_type": "code",
   "execution_count": 51,
   "metadata": {},
   "outputs": [
    {
     "ename": "KeyError",
     "evalue": "24",
     "output_type": "error",
     "traceback": [
      "\u001b[1;31m---------------------------------------------------------------------------\u001b[0m",
      "\u001b[1;31mKeyError\u001b[0m                                  Traceback (most recent call last)",
      "\u001b[1;32m<ipython-input-51-aa1503c218da>\u001b[0m in \u001b[0;36m<module>\u001b[1;34m\u001b[0m\n\u001b[0;32m     30\u001b[0m         \u001b[0ms\u001b[0m\u001b[1;33m=\u001b[0m\u001b[0mf\u001b[0m\u001b[1;33m.\u001b[0m\u001b[0mreadline\u001b[0m\u001b[1;33m(\u001b[0m\u001b[1;33m)\u001b[0m\u001b[1;33m\u001b[0m\u001b[1;33m\u001b[0m\u001b[0m\n\u001b[0;32m     31\u001b[0m         \u001b[0mk\u001b[0m\u001b[1;33m=\u001b[0m\u001b[0mint\u001b[0m\u001b[1;33m(\u001b[0m\u001b[0mf\u001b[0m\u001b[1;33m.\u001b[0m\u001b[0mreadline\u001b[0m\u001b[1;33m(\u001b[0m\u001b[1;33m)\u001b[0m\u001b[1;33m)\u001b[0m\u001b[1;33m\u001b[0m\u001b[1;33m\u001b[0m\u001b[0m\n\u001b[1;32m---> 32\u001b[1;33m         \u001b[0mkthhighestFrequency\u001b[0m\u001b[1;33m(\u001b[0m\u001b[0ms\u001b[0m\u001b[1;33m,\u001b[0m\u001b[0mk\u001b[0m\u001b[1;33m)\u001b[0m\u001b[1;33m\u001b[0m\u001b[1;33m\u001b[0m\u001b[0m\n\u001b[0m",
      "\u001b[1;32m<ipython-input-51-aa1503c218da>\u001b[0m in \u001b[0;36mkthhighestFrequency\u001b[1;34m(s, k)\u001b[0m\n\u001b[0;32m     10\u001b[0m     \u001b[0ma\u001b[0m\u001b[1;33m=\u001b[0m\u001b[0msorted\u001b[0m\u001b[1;33m(\u001b[0m\u001b[0ma\u001b[0m\u001b[1;33m,\u001b[0m\u001b[0mreverse\u001b[0m\u001b[1;33m=\u001b[0m\u001b[1;32mTrue\u001b[0m\u001b[1;33m)\u001b[0m\u001b[1;33m\u001b[0m\u001b[1;33m\u001b[0m\u001b[0m\n\u001b[0;32m     11\u001b[0m     \u001b[1;32mif\u001b[0m \u001b[0mlen\u001b[0m\u001b[1;33m(\u001b[0m\u001b[0munique\u001b[0m\u001b[1;33m)\u001b[0m\u001b[1;33m>\u001b[0m\u001b[1;33m(\u001b[0m\u001b[0mk\u001b[0m\u001b[1;33m-\u001b[0m\u001b[1;36m1\u001b[0m\u001b[1;33m)\u001b[0m\u001b[1;33m:\u001b[0m\u001b[1;33m\u001b[0m\u001b[1;33m\u001b[0m\u001b[0m\n\u001b[1;32m---> 12\u001b[1;33m         \u001b[1;32mreturn\u001b[0m \u001b[0munique\u001b[0m\u001b[1;33m[\u001b[0m\u001b[0mk\u001b[0m\u001b[1;33m-\u001b[0m\u001b[1;36m1\u001b[0m\u001b[1;33m]\u001b[0m\u001b[1;33m\u001b[0m\u001b[1;33m\u001b[0m\u001b[0m\n\u001b[0m\u001b[0;32m     13\u001b[0m     \u001b[1;32mreturn\u001b[0m \u001b[1;33m-\u001b[0m\u001b[1;36m1\u001b[0m\u001b[1;33m\u001b[0m\u001b[1;33m\u001b[0m\u001b[0m\n\u001b[0;32m     14\u001b[0m     \u001b[1;31m#[1,2,3,2,1,4,4,9]-->3\u001b[0m\u001b[1;33m\u001b[0m\u001b[1;33m\u001b[0m\u001b[1;33m\u001b[0m\u001b[0m\n",
      "\u001b[1;31mKeyError\u001b[0m: 24"
     ]
    }
   ],
   "source": [
    "def kthhighestFrequency(s,k):\n",
    "    un=[]\n",
    "    unique = {}\n",
    "    for n in s:\n",
    "        if n not in unique:\n",
    "            unique[n]=1\n",
    "        else:\n",
    "            unique[n]+=1\n",
    "    a=list(unique.values())\n",
    "    a=sorted(a,reverse=True)\n",
    "    if len(unique)>(k-1):\n",
    "        return unique[k-1]\n",
    "    return -1\n",
    "    #[1,2,3,2,1,4,4,9]-->3\n",
    "    for n in a:\n",
    "        if n not in un:\n",
    "            un.append(n)\n",
    "            print(un)\n",
    "    smfE=[]\n",
    "    for item in unique.items():\n",
    "        if item[1]==un[k-1]:\n",
    "            smfE.append(item[0])\n",
    "    smfE=sorted(smfE)\n",
    "    print(smfE)\n",
    "    return smfE[0]\n",
    "\n",
    "with open('DataFiles/input.txt','r') as f:\n",
    "    t=int(f.readline())\n",
    "    for i in range(t):\n",
    "        s=f.readline()\n",
    "        k=int(f.readline())\n",
    "        kthhighestFrequency(s,k)"
   ]
  },
  {
   "cell_type": "code",
   "execution_count": null,
   "metadata": {},
   "outputs": [],
   "source": []
  }
 ],
 "metadata": {
  "kernelspec": {
   "display_name": "Python 3",
   "language": "python",
   "name": "python3"
  },
  "language_info": {
   "codemirror_mode": {
    "name": "ipython",
    "version": 3
   },
   "file_extension": ".py",
   "mimetype": "text/x-python",
   "name": "python",
   "nbconvert_exporter": "python",
   "pygments_lexer": "ipython3",
   "version": "3.7.3"
  }
 },
 "nbformat": 4,
 "nbformat_minor": 2
}
